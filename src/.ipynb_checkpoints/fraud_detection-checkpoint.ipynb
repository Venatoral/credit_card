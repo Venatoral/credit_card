{
 "cells": [
  {
   "cell_type": "code",
   "execution_count": 55,
   "metadata": {},
   "outputs": [],
   "source": [
    "import pandas as pd"
   ]
  },
  {
   "cell_type": "markdown",
   "metadata": {},
   "source": [
    "## 读取数据"
   ]
  },
  {
   "cell_type": "code",
   "execution_count": 56,
   "metadata": {},
   "outputs": [],
   "source": [
    "credit = pd.read_csv('../data/credit.csv')"
   ]
  },
  {
   "cell_type": "code",
   "execution_count": 57,
   "metadata": {},
   "outputs": [
    {
     "name": "stdout",
     "output_type": "stream",
     "text": [
      "<class 'pandas.core.frame.DataFrame'>\n",
      "RangeIndex: 36457 entries, 0 to 36456\n",
      "Data columns (total 22 columns):\n",
      " #   Column               Non-Null Count  Dtype  \n",
      "---  ------               --------------  -----  \n",
      " 0   Unnamed: 0           36457 non-null  int64  \n",
      " 1   ID                   36457 non-null  int64  \n",
      " 2   CODE_GENDER          36457 non-null  object \n",
      " 3   FLAG_OWN_CAR         36457 non-null  object \n",
      " 4   FLAG_OWN_REALTY      36457 non-null  object \n",
      " 5   CNT_CHILDREN         36457 non-null  int64  \n",
      " 6   AMT_INCOME_TOTAL     36457 non-null  float64\n",
      " 7   NAME_INCOME_TYPE     36457 non-null  object \n",
      " 8   NAME_EDUCATION_TYPE  36457 non-null  object \n",
      " 9   NAME_FAMILY_STATUS   36457 non-null  object \n",
      " 10  NAME_HOUSING_TYPE    36457 non-null  object \n",
      " 11  DAYS_BIRTH           36457 non-null  int64  \n",
      " 12  DAYS_EMPLOYED        36457 non-null  int64  \n",
      " 13  FLAG_MOBIL           36457 non-null  int64  \n",
      " 14  FLAG_WORK_PHONE      36457 non-null  int64  \n",
      " 15  FLAG_PHONE           36457 non-null  int64  \n",
      " 16  FLAG_EMAIL           36457 non-null  int64  \n",
      " 17  OCCUPATION_TYPE      25134 non-null  object \n",
      " 18  CNT_FAM_MEMBERS      36457 non-null  float64\n",
      " 19  begin_month          36457 non-null  float64\n",
      " 20  dep_value            36457 non-null  object \n",
      " 21  target               36457 non-null  int64  \n",
      "dtypes: float64(3), int64(10), object(9)\n",
      "memory usage: 6.1+ MB\n"
     ]
    }
   ],
   "source": [
    "credit.info()"
   ]
  },
  {
   "cell_type": "code",
   "execution_count": 58,
   "metadata": {},
   "outputs": [
    {
     "data": {
      "text/html": [
       "<div>\n",
       "<style scoped>\n",
       "    .dataframe tbody tr th:only-of-type {\n",
       "        vertical-align: middle;\n",
       "    }\n",
       "\n",
       "    .dataframe tbody tr th {\n",
       "        vertical-align: top;\n",
       "    }\n",
       "\n",
       "    .dataframe thead th {\n",
       "        text-align: right;\n",
       "    }\n",
       "</style>\n",
       "<table border=\"1\" class=\"dataframe\">\n",
       "  <thead>\n",
       "    <tr style=\"text-align: right;\">\n",
       "      <th></th>\n",
       "      <th>Unnamed: 0</th>\n",
       "      <th>ID</th>\n",
       "      <th>CODE_GENDER</th>\n",
       "      <th>FLAG_OWN_CAR</th>\n",
       "      <th>FLAG_OWN_REALTY</th>\n",
       "      <th>CNT_CHILDREN</th>\n",
       "      <th>AMT_INCOME_TOTAL</th>\n",
       "      <th>NAME_INCOME_TYPE</th>\n",
       "      <th>NAME_EDUCATION_TYPE</th>\n",
       "      <th>NAME_FAMILY_STATUS</th>\n",
       "      <th>...</th>\n",
       "      <th>DAYS_EMPLOYED</th>\n",
       "      <th>FLAG_MOBIL</th>\n",
       "      <th>FLAG_WORK_PHONE</th>\n",
       "      <th>FLAG_PHONE</th>\n",
       "      <th>FLAG_EMAIL</th>\n",
       "      <th>OCCUPATION_TYPE</th>\n",
       "      <th>CNT_FAM_MEMBERS</th>\n",
       "      <th>begin_month</th>\n",
       "      <th>dep_value</th>\n",
       "      <th>target</th>\n",
       "    </tr>\n",
       "  </thead>\n",
       "  <tbody>\n",
       "    <tr>\n",
       "      <th>0</th>\n",
       "      <td>0</td>\n",
       "      <td>5008804</td>\n",
       "      <td>M</td>\n",
       "      <td>Y</td>\n",
       "      <td>Y</td>\n",
       "      <td>0</td>\n",
       "      <td>427500.0</td>\n",
       "      <td>Working</td>\n",
       "      <td>Higher education</td>\n",
       "      <td>Civil marriage</td>\n",
       "      <td>...</td>\n",
       "      <td>-4542</td>\n",
       "      <td>1</td>\n",
       "      <td>1</td>\n",
       "      <td>0</td>\n",
       "      <td>0</td>\n",
       "      <td>NaN</td>\n",
       "      <td>2.0</td>\n",
       "      <td>-15.0</td>\n",
       "      <td>No</td>\n",
       "      <td>0</td>\n",
       "    </tr>\n",
       "    <tr>\n",
       "      <th>1</th>\n",
       "      <td>1</td>\n",
       "      <td>5008805</td>\n",
       "      <td>M</td>\n",
       "      <td>Y</td>\n",
       "      <td>Y</td>\n",
       "      <td>0</td>\n",
       "      <td>427500.0</td>\n",
       "      <td>Working</td>\n",
       "      <td>Higher education</td>\n",
       "      <td>Civil marriage</td>\n",
       "      <td>...</td>\n",
       "      <td>-4542</td>\n",
       "      <td>1</td>\n",
       "      <td>1</td>\n",
       "      <td>0</td>\n",
       "      <td>0</td>\n",
       "      <td>NaN</td>\n",
       "      <td>2.0</td>\n",
       "      <td>-14.0</td>\n",
       "      <td>No</td>\n",
       "      <td>0</td>\n",
       "    </tr>\n",
       "    <tr>\n",
       "      <th>2</th>\n",
       "      <td>2</td>\n",
       "      <td>5008806</td>\n",
       "      <td>M</td>\n",
       "      <td>Y</td>\n",
       "      <td>Y</td>\n",
       "      <td>0</td>\n",
       "      <td>112500.0</td>\n",
       "      <td>Working</td>\n",
       "      <td>Secondary / secondary special</td>\n",
       "      <td>Married</td>\n",
       "      <td>...</td>\n",
       "      <td>-1134</td>\n",
       "      <td>1</td>\n",
       "      <td>0</td>\n",
       "      <td>0</td>\n",
       "      <td>0</td>\n",
       "      <td>Security staff</td>\n",
       "      <td>2.0</td>\n",
       "      <td>-29.0</td>\n",
       "      <td>No</td>\n",
       "      <td>0</td>\n",
       "    </tr>\n",
       "    <tr>\n",
       "      <th>3</th>\n",
       "      <td>3</td>\n",
       "      <td>5008808</td>\n",
       "      <td>F</td>\n",
       "      <td>N</td>\n",
       "      <td>Y</td>\n",
       "      <td>0</td>\n",
       "      <td>270000.0</td>\n",
       "      <td>Commercial associate</td>\n",
       "      <td>Secondary / secondary special</td>\n",
       "      <td>Single / not married</td>\n",
       "      <td>...</td>\n",
       "      <td>-3051</td>\n",
       "      <td>1</td>\n",
       "      <td>0</td>\n",
       "      <td>1</td>\n",
       "      <td>1</td>\n",
       "      <td>Sales staff</td>\n",
       "      <td>1.0</td>\n",
       "      <td>-4.0</td>\n",
       "      <td>No</td>\n",
       "      <td>0</td>\n",
       "    </tr>\n",
       "    <tr>\n",
       "      <th>4</th>\n",
       "      <td>4</td>\n",
       "      <td>5008809</td>\n",
       "      <td>F</td>\n",
       "      <td>N</td>\n",
       "      <td>Y</td>\n",
       "      <td>0</td>\n",
       "      <td>270000.0</td>\n",
       "      <td>Commercial associate</td>\n",
       "      <td>Secondary / secondary special</td>\n",
       "      <td>Single / not married</td>\n",
       "      <td>...</td>\n",
       "      <td>-3051</td>\n",
       "      <td>1</td>\n",
       "      <td>0</td>\n",
       "      <td>1</td>\n",
       "      <td>1</td>\n",
       "      <td>Sales staff</td>\n",
       "      <td>1.0</td>\n",
       "      <td>-26.0</td>\n",
       "      <td>No</td>\n",
       "      <td>0</td>\n",
       "    </tr>\n",
       "  </tbody>\n",
       "</table>\n",
       "<p>5 rows × 22 columns</p>\n",
       "</div>"
      ],
      "text/plain": [
       "   Unnamed: 0       ID CODE_GENDER FLAG_OWN_CAR FLAG_OWN_REALTY  CNT_CHILDREN  \\\n",
       "0           0  5008804           M            Y               Y             0   \n",
       "1           1  5008805           M            Y               Y             0   \n",
       "2           2  5008806           M            Y               Y             0   \n",
       "3           3  5008808           F            N               Y             0   \n",
       "4           4  5008809           F            N               Y             0   \n",
       "\n",
       "   AMT_INCOME_TOTAL      NAME_INCOME_TYPE            NAME_EDUCATION_TYPE  \\\n",
       "0          427500.0               Working               Higher education   \n",
       "1          427500.0               Working               Higher education   \n",
       "2          112500.0               Working  Secondary / secondary special   \n",
       "3          270000.0  Commercial associate  Secondary / secondary special   \n",
       "4          270000.0  Commercial associate  Secondary / secondary special   \n",
       "\n",
       "     NAME_FAMILY_STATUS  ... DAYS_EMPLOYED  FLAG_MOBIL  FLAG_WORK_PHONE  \\\n",
       "0        Civil marriage  ...         -4542           1                1   \n",
       "1        Civil marriage  ...         -4542           1                1   \n",
       "2               Married  ...         -1134           1                0   \n",
       "3  Single / not married  ...         -3051           1                0   \n",
       "4  Single / not married  ...         -3051           1                0   \n",
       "\n",
       "   FLAG_PHONE  FLAG_EMAIL  OCCUPATION_TYPE  CNT_FAM_MEMBERS begin_month  \\\n",
       "0           0           0              NaN              2.0       -15.0   \n",
       "1           0           0              NaN              2.0       -14.0   \n",
       "2           0           0   Security staff              2.0       -29.0   \n",
       "3           1           1      Sales staff              1.0        -4.0   \n",
       "4           1           1      Sales staff              1.0       -26.0   \n",
       "\n",
       "   dep_value  target  \n",
       "0         No       0  \n",
       "1         No       0  \n",
       "2         No       0  \n",
       "3         No       0  \n",
       "4         No       0  \n",
       "\n",
       "[5 rows x 22 columns]"
      ]
     },
     "execution_count": 58,
     "metadata": {},
     "output_type": "execute_result"
    }
   ],
   "source": [
    "credit.head()"
   ]
  },
  {
   "cell_type": "markdown",
   "metadata": {},
   "source": [
    "## 丢弃无用columns"
   ]
  },
  {
   "cell_type": "code",
   "execution_count": 59,
   "metadata": {},
   "outputs": [
    {
     "name": "stdout",
     "output_type": "stream",
     "text": [
      "<class 'pandas.core.frame.DataFrame'>\n",
      "RangeIndex: 36457 entries, 0 to 36456\n",
      "Data columns (total 20 columns):\n",
      " #   Column               Non-Null Count  Dtype  \n",
      "---  ------               --------------  -----  \n",
      " 0   ID                   36457 non-null  int64  \n",
      " 1   CODE_GENDER          36457 non-null  object \n",
      " 2   FLAG_OWN_CAR         36457 non-null  object \n",
      " 3   FLAG_OWN_REALTY      36457 non-null  object \n",
      " 4   CNT_CHILDREN         36457 non-null  int64  \n",
      " 5   AMT_INCOME_TOTAL     36457 non-null  float64\n",
      " 6   NAME_INCOME_TYPE     36457 non-null  object \n",
      " 7   NAME_EDUCATION_TYPE  36457 non-null  object \n",
      " 8   NAME_FAMILY_STATUS   36457 non-null  object \n",
      " 9   NAME_HOUSING_TYPE    36457 non-null  object \n",
      " 10  DAYS_BIRTH           36457 non-null  int64  \n",
      " 11  DAYS_EMPLOYED        36457 non-null  int64  \n",
      " 12  FLAG_MOBIL           36457 non-null  int64  \n",
      " 13  FLAG_WORK_PHONE      36457 non-null  int64  \n",
      " 14  FLAG_PHONE           36457 non-null  int64  \n",
      " 15  FLAG_EMAIL           36457 non-null  int64  \n",
      " 16  OCCUPATION_TYPE      25134 non-null  object \n",
      " 17  CNT_FAM_MEMBERS      36457 non-null  float64\n",
      " 18  begin_month          36457 non-null  float64\n",
      " 19  target               36457 non-null  int64  \n",
      "dtypes: float64(3), int64(9), object(8)\n",
      "memory usage: 5.6+ MB\n"
     ]
    }
   ],
   "source": [
    "credit = credit.drop(columns=['Unnamed: 0','dep_value'], axis=1)\n",
    "credit.info()"
   ]
  },
  {
   "cell_type": "markdown",
   "metadata": {},
   "source": [
    "## 处理columns\n"
   ]
  },
  {
   "cell_type": "code",
   "execution_count": 60,
   "metadata": {},
   "outputs": [],
   "source": [
    "credit['month_on_book'] = -credit['begin_month']\n",
    "# 将年龄和工龄转换为年\n",
    "credit['DAYS_BIRTH'] = -credit['DAYS_BIRTH'] / 365\n",
    "credit['DAYS_EMPLOYED'] = credit['DAYS_EMPLOYED'] / 365\n",
    "credit.rename(columns={'DAYS_BIRTH': 'age', 'DAYS_EMPLOYED':'work_year'}, inplace=True)\n",
    "credit.drop(columns='begin_month', axis=1, inplace=True)\n",
    "# 将工资按照 'k'为单位\n",
    "credit['AMT_INCOME_TOTAL'] = credit['AMT_INCOME_TOTAL'] / 1000\n",
    "# 处理flag类二分数据\n",
    "dic = {'Y': 1, 'N': 0}\n",
    "credit['FLAG_OWN_CAR'] = credit['FLAG_OWN_CAR'].replace(dic)\n",
    "credit['FLAG_OWN_REALTY'] = credit['FLAG_OWN_REALTY'].replace(dic)\n",
    "credit['CODE_GENDER'] = credit['CODE_GENDER'].replace({'M':1, 'F':0})"
   ]
  },
  {
   "cell_type": "code",
   "execution_count": 61,
   "metadata": {},
   "outputs": [
    {
     "data": {
      "text/html": [
       "<div>\n",
       "<style scoped>\n",
       "    .dataframe tbody tr th:only-of-type {\n",
       "        vertical-align: middle;\n",
       "    }\n",
       "\n",
       "    .dataframe tbody tr th {\n",
       "        vertical-align: top;\n",
       "    }\n",
       "\n",
       "    .dataframe thead th {\n",
       "        text-align: right;\n",
       "    }\n",
       "</style>\n",
       "<table border=\"1\" class=\"dataframe\">\n",
       "  <thead>\n",
       "    <tr style=\"text-align: right;\">\n",
       "      <th></th>\n",
       "      <th>ID</th>\n",
       "      <th>CODE_GENDER</th>\n",
       "      <th>FLAG_OWN_CAR</th>\n",
       "      <th>FLAG_OWN_REALTY</th>\n",
       "      <th>CNT_CHILDREN</th>\n",
       "      <th>AMT_INCOME_TOTAL</th>\n",
       "      <th>NAME_INCOME_TYPE</th>\n",
       "      <th>NAME_EDUCATION_TYPE</th>\n",
       "      <th>NAME_FAMILY_STATUS</th>\n",
       "      <th>NAME_HOUSING_TYPE</th>\n",
       "      <th>age</th>\n",
       "      <th>work_year</th>\n",
       "      <th>FLAG_MOBIL</th>\n",
       "      <th>FLAG_WORK_PHONE</th>\n",
       "      <th>FLAG_PHONE</th>\n",
       "      <th>FLAG_EMAIL</th>\n",
       "      <th>OCCUPATION_TYPE</th>\n",
       "      <th>CNT_FAM_MEMBERS</th>\n",
       "      <th>target</th>\n",
       "      <th>month_on_book</th>\n",
       "    </tr>\n",
       "  </thead>\n",
       "  <tbody>\n",
       "    <tr>\n",
       "      <th>0</th>\n",
       "      <td>5008804</td>\n",
       "      <td>1</td>\n",
       "      <td>1</td>\n",
       "      <td>1</td>\n",
       "      <td>0</td>\n",
       "      <td>427.5</td>\n",
       "      <td>Working</td>\n",
       "      <td>Higher education</td>\n",
       "      <td>Civil marriage</td>\n",
       "      <td>Rented apartment</td>\n",
       "      <td>32.890411</td>\n",
       "      <td>-12.443836</td>\n",
       "      <td>1</td>\n",
       "      <td>1</td>\n",
       "      <td>0</td>\n",
       "      <td>0</td>\n",
       "      <td>NaN</td>\n",
       "      <td>2.0</td>\n",
       "      <td>0</td>\n",
       "      <td>15.0</td>\n",
       "    </tr>\n",
       "    <tr>\n",
       "      <th>1</th>\n",
       "      <td>5008805</td>\n",
       "      <td>1</td>\n",
       "      <td>1</td>\n",
       "      <td>1</td>\n",
       "      <td>0</td>\n",
       "      <td>427.5</td>\n",
       "      <td>Working</td>\n",
       "      <td>Higher education</td>\n",
       "      <td>Civil marriage</td>\n",
       "      <td>Rented apartment</td>\n",
       "      <td>32.890411</td>\n",
       "      <td>-12.443836</td>\n",
       "      <td>1</td>\n",
       "      <td>1</td>\n",
       "      <td>0</td>\n",
       "      <td>0</td>\n",
       "      <td>NaN</td>\n",
       "      <td>2.0</td>\n",
       "      <td>0</td>\n",
       "      <td>14.0</td>\n",
       "    </tr>\n",
       "    <tr>\n",
       "      <th>2</th>\n",
       "      <td>5008806</td>\n",
       "      <td>1</td>\n",
       "      <td>1</td>\n",
       "      <td>1</td>\n",
       "      <td>0</td>\n",
       "      <td>112.5</td>\n",
       "      <td>Working</td>\n",
       "      <td>Secondary / secondary special</td>\n",
       "      <td>Married</td>\n",
       "      <td>House / apartment</td>\n",
       "      <td>58.832877</td>\n",
       "      <td>-3.106849</td>\n",
       "      <td>1</td>\n",
       "      <td>0</td>\n",
       "      <td>0</td>\n",
       "      <td>0</td>\n",
       "      <td>Security staff</td>\n",
       "      <td>2.0</td>\n",
       "      <td>0</td>\n",
       "      <td>29.0</td>\n",
       "    </tr>\n",
       "    <tr>\n",
       "      <th>3</th>\n",
       "      <td>5008808</td>\n",
       "      <td>0</td>\n",
       "      <td>0</td>\n",
       "      <td>1</td>\n",
       "      <td>0</td>\n",
       "      <td>270.0</td>\n",
       "      <td>Commercial associate</td>\n",
       "      <td>Secondary / secondary special</td>\n",
       "      <td>Single / not married</td>\n",
       "      <td>House / apartment</td>\n",
       "      <td>52.356164</td>\n",
       "      <td>-8.358904</td>\n",
       "      <td>1</td>\n",
       "      <td>0</td>\n",
       "      <td>1</td>\n",
       "      <td>1</td>\n",
       "      <td>Sales staff</td>\n",
       "      <td>1.0</td>\n",
       "      <td>0</td>\n",
       "      <td>4.0</td>\n",
       "    </tr>\n",
       "    <tr>\n",
       "      <th>4</th>\n",
       "      <td>5008809</td>\n",
       "      <td>0</td>\n",
       "      <td>0</td>\n",
       "      <td>1</td>\n",
       "      <td>0</td>\n",
       "      <td>270.0</td>\n",
       "      <td>Commercial associate</td>\n",
       "      <td>Secondary / secondary special</td>\n",
       "      <td>Single / not married</td>\n",
       "      <td>House / apartment</td>\n",
       "      <td>52.356164</td>\n",
       "      <td>-8.358904</td>\n",
       "      <td>1</td>\n",
       "      <td>0</td>\n",
       "      <td>1</td>\n",
       "      <td>1</td>\n",
       "      <td>Sales staff</td>\n",
       "      <td>1.0</td>\n",
       "      <td>0</td>\n",
       "      <td>26.0</td>\n",
       "    </tr>\n",
       "    <tr>\n",
       "      <th>...</th>\n",
       "      <td>...</td>\n",
       "      <td>...</td>\n",
       "      <td>...</td>\n",
       "      <td>...</td>\n",
       "      <td>...</td>\n",
       "      <td>...</td>\n",
       "      <td>...</td>\n",
       "      <td>...</td>\n",
       "      <td>...</td>\n",
       "      <td>...</td>\n",
       "      <td>...</td>\n",
       "      <td>...</td>\n",
       "      <td>...</td>\n",
       "      <td>...</td>\n",
       "      <td>...</td>\n",
       "      <td>...</td>\n",
       "      <td>...</td>\n",
       "      <td>...</td>\n",
       "      <td>...</td>\n",
       "      <td>...</td>\n",
       "    </tr>\n",
       "    <tr>\n",
       "      <th>36452</th>\n",
       "      <td>5149828</td>\n",
       "      <td>1</td>\n",
       "      <td>1</td>\n",
       "      <td>1</td>\n",
       "      <td>0</td>\n",
       "      <td>315.0</td>\n",
       "      <td>Working</td>\n",
       "      <td>Secondary / secondary special</td>\n",
       "      <td>Married</td>\n",
       "      <td>House / apartment</td>\n",
       "      <td>47.528767</td>\n",
       "      <td>-6.630137</td>\n",
       "      <td>1</td>\n",
       "      <td>0</td>\n",
       "      <td>0</td>\n",
       "      <td>0</td>\n",
       "      <td>Managers</td>\n",
       "      <td>2.0</td>\n",
       "      <td>1</td>\n",
       "      <td>11.0</td>\n",
       "    </tr>\n",
       "    <tr>\n",
       "      <th>36453</th>\n",
       "      <td>5149834</td>\n",
       "      <td>0</td>\n",
       "      <td>0</td>\n",
       "      <td>1</td>\n",
       "      <td>0</td>\n",
       "      <td>157.5</td>\n",
       "      <td>Commercial associate</td>\n",
       "      <td>Higher education</td>\n",
       "      <td>Married</td>\n",
       "      <td>House / apartment</td>\n",
       "      <td>33.936986</td>\n",
       "      <td>-3.630137</td>\n",
       "      <td>1</td>\n",
       "      <td>0</td>\n",
       "      <td>1</td>\n",
       "      <td>1</td>\n",
       "      <td>Medicine staff</td>\n",
       "      <td>2.0</td>\n",
       "      <td>1</td>\n",
       "      <td>23.0</td>\n",
       "    </tr>\n",
       "    <tr>\n",
       "      <th>36454</th>\n",
       "      <td>5149838</td>\n",
       "      <td>0</td>\n",
       "      <td>0</td>\n",
       "      <td>1</td>\n",
       "      <td>0</td>\n",
       "      <td>157.5</td>\n",
       "      <td>Pensioner</td>\n",
       "      <td>Higher education</td>\n",
       "      <td>Married</td>\n",
       "      <td>House / apartment</td>\n",
       "      <td>33.936986</td>\n",
       "      <td>-3.630137</td>\n",
       "      <td>1</td>\n",
       "      <td>0</td>\n",
       "      <td>1</td>\n",
       "      <td>1</td>\n",
       "      <td>Medicine staff</td>\n",
       "      <td>2.0</td>\n",
       "      <td>1</td>\n",
       "      <td>32.0</td>\n",
       "    </tr>\n",
       "    <tr>\n",
       "      <th>36455</th>\n",
       "      <td>5150049</td>\n",
       "      <td>0</td>\n",
       "      <td>0</td>\n",
       "      <td>1</td>\n",
       "      <td>0</td>\n",
       "      <td>283.5</td>\n",
       "      <td>Working</td>\n",
       "      <td>Secondary / secondary special</td>\n",
       "      <td>Married</td>\n",
       "      <td>House / apartment</td>\n",
       "      <td>49.200000</td>\n",
       "      <td>-1.794521</td>\n",
       "      <td>1</td>\n",
       "      <td>0</td>\n",
       "      <td>0</td>\n",
       "      <td>0</td>\n",
       "      <td>Sales staff</td>\n",
       "      <td>2.0</td>\n",
       "      <td>1</td>\n",
       "      <td>9.0</td>\n",
       "    </tr>\n",
       "    <tr>\n",
       "      <th>36456</th>\n",
       "      <td>5150337</td>\n",
       "      <td>1</td>\n",
       "      <td>0</td>\n",
       "      <td>1</td>\n",
       "      <td>0</td>\n",
       "      <td>112.5</td>\n",
       "      <td>Working</td>\n",
       "      <td>Secondary / secondary special</td>\n",
       "      <td>Single / not married</td>\n",
       "      <td>Rented apartment</td>\n",
       "      <td>25.172603</td>\n",
       "      <td>-3.268493</td>\n",
       "      <td>1</td>\n",
       "      <td>0</td>\n",
       "      <td>0</td>\n",
       "      <td>0</td>\n",
       "      <td>Laborers</td>\n",
       "      <td>1.0</td>\n",
       "      <td>1</td>\n",
       "      <td>13.0</td>\n",
       "    </tr>\n",
       "  </tbody>\n",
       "</table>\n",
       "<p>36457 rows × 20 columns</p>\n",
       "</div>"
      ],
      "text/plain": [
       "            ID  CODE_GENDER  FLAG_OWN_CAR  FLAG_OWN_REALTY  CNT_CHILDREN  \\\n",
       "0      5008804            1             1                1             0   \n",
       "1      5008805            1             1                1             0   \n",
       "2      5008806            1             1                1             0   \n",
       "3      5008808            0             0                1             0   \n",
       "4      5008809            0             0                1             0   \n",
       "...        ...          ...           ...              ...           ...   \n",
       "36452  5149828            1             1                1             0   \n",
       "36453  5149834            0             0                1             0   \n",
       "36454  5149838            0             0                1             0   \n",
       "36455  5150049            0             0                1             0   \n",
       "36456  5150337            1             0                1             0   \n",
       "\n",
       "       AMT_INCOME_TOTAL      NAME_INCOME_TYPE            NAME_EDUCATION_TYPE  \\\n",
       "0                 427.5               Working               Higher education   \n",
       "1                 427.5               Working               Higher education   \n",
       "2                 112.5               Working  Secondary / secondary special   \n",
       "3                 270.0  Commercial associate  Secondary / secondary special   \n",
       "4                 270.0  Commercial associate  Secondary / secondary special   \n",
       "...                 ...                   ...                            ...   \n",
       "36452             315.0               Working  Secondary / secondary special   \n",
       "36453             157.5  Commercial associate               Higher education   \n",
       "36454             157.5             Pensioner               Higher education   \n",
       "36455             283.5               Working  Secondary / secondary special   \n",
       "36456             112.5               Working  Secondary / secondary special   \n",
       "\n",
       "         NAME_FAMILY_STATUS  NAME_HOUSING_TYPE        age  work_year  \\\n",
       "0            Civil marriage   Rented apartment  32.890411 -12.443836   \n",
       "1            Civil marriage   Rented apartment  32.890411 -12.443836   \n",
       "2                   Married  House / apartment  58.832877  -3.106849   \n",
       "3      Single / not married  House / apartment  52.356164  -8.358904   \n",
       "4      Single / not married  House / apartment  52.356164  -8.358904   \n",
       "...                     ...                ...        ...        ...   \n",
       "36452               Married  House / apartment  47.528767  -6.630137   \n",
       "36453               Married  House / apartment  33.936986  -3.630137   \n",
       "36454               Married  House / apartment  33.936986  -3.630137   \n",
       "36455               Married  House / apartment  49.200000  -1.794521   \n",
       "36456  Single / not married   Rented apartment  25.172603  -3.268493   \n",
       "\n",
       "       FLAG_MOBIL  FLAG_WORK_PHONE  FLAG_PHONE  FLAG_EMAIL OCCUPATION_TYPE  \\\n",
       "0               1                1           0           0             NaN   \n",
       "1               1                1           0           0             NaN   \n",
       "2               1                0           0           0  Security staff   \n",
       "3               1                0           1           1     Sales staff   \n",
       "4               1                0           1           1     Sales staff   \n",
       "...           ...              ...         ...         ...             ...   \n",
       "36452           1                0           0           0        Managers   \n",
       "36453           1                0           1           1  Medicine staff   \n",
       "36454           1                0           1           1  Medicine staff   \n",
       "36455           1                0           0           0     Sales staff   \n",
       "36456           1                0           0           0        Laborers   \n",
       "\n",
       "       CNT_FAM_MEMBERS  target  month_on_book  \n",
       "0                  2.0       0           15.0  \n",
       "1                  2.0       0           14.0  \n",
       "2                  2.0       0           29.0  \n",
       "3                  1.0       0            4.0  \n",
       "4                  1.0       0           26.0  \n",
       "...                ...     ...            ...  \n",
       "36452              2.0       1           11.0  \n",
       "36453              2.0       1           23.0  \n",
       "36454              2.0       1           32.0  \n",
       "36455              2.0       1            9.0  \n",
       "36456              1.0       1           13.0  \n",
       "\n",
       "[36457 rows x 20 columns]"
      ]
     },
     "execution_count": 61,
     "metadata": {},
     "output_type": "execute_result"
    }
   ],
   "source": [
    "credit"
   ]
  },
  {
   "cell_type": "code",
   "execution_count": 62,
   "metadata": {},
   "outputs": [
    {
     "data": {
      "text/plain": [
       "ID                         0\n",
       "CODE_GENDER                0\n",
       "FLAG_OWN_CAR               0\n",
       "FLAG_OWN_REALTY            0\n",
       "CNT_CHILDREN               0\n",
       "AMT_INCOME_TOTAL           0\n",
       "NAME_INCOME_TYPE           0\n",
       "NAME_EDUCATION_TYPE        0\n",
       "NAME_FAMILY_STATUS         0\n",
       "NAME_HOUSING_TYPE          0\n",
       "age                        0\n",
       "work_year                  0\n",
       "FLAG_MOBIL                 0\n",
       "FLAG_WORK_PHONE            0\n",
       "FLAG_PHONE                 0\n",
       "FLAG_EMAIL                 0\n",
       "OCCUPATION_TYPE        11323\n",
       "CNT_FAM_MEMBERS            0\n",
       "target                     0\n",
       "month_on_book              0\n",
       "dtype: int64"
      ]
     },
     "execution_count": 62,
     "metadata": {},
     "output_type": "execute_result"
    }
   ],
   "source": [
    "credit.isna().sum()"
   ]
  },
  {
   "cell_type": "markdown",
   "metadata": {},
   "source": [
    "可以看出职业一栏有许多空数据"
   ]
  },
  {
   "cell_type": "code",
   "execution_count": 63,
   "metadata": {},
   "outputs": [],
   "source": [
    "# 对于缺失的工作column，由于其缺失值 11323过大，我们对其该column进行舍弃\n",
    "credit.drop(columns='OCCUPATION_TYPE', inplace=True)"
   ]
  },
  {
   "cell_type": "markdown",
   "metadata": {},
   "source": [
    "这样就处理了工作类型的缺失值"
   ]
  },
  {
   "cell_type": "markdown",
   "metadata": {},
   "source": [
    "## 数据分析及处理"
   ]
  },
  {
   "cell_type": "code",
   "execution_count": 64,
   "metadata": {},
   "outputs": [],
   "source": [
    "# 二分类对应列\n",
    "flag_col = [i for i in credit.columns if i.startswith('FLAG_')]"
   ]
  },
  {
   "cell_type": "code",
   "execution_count": 65,
   "metadata": {},
   "outputs": [],
   "source": [
    "from matplotlib import pyplot as plt"
   ]
  },
  {
   "cell_type": "code",
   "execution_count": 66,
   "metadata": {},
   "outputs": [
    {
     "data": {
      "image/png": "[encoded data removed]",
      "text/plain": [
       "<Figure size 2160x360 with 6 Axes>"
      ]
     },
     "metadata": {
      "needs_background": "light"
     },
     "output_type": "display_data"
    }
   ],
   "source": [
    "_, axes = plt.subplots(ncols=len(flag_col), figsize=(30, 5))\n",
    "for col, ax in zip(flag_col, axes):\n",
    "    credit[col].value_counts().plot(kind='bar', ax=ax, title=col)\n",
    "plt.show()"
   ]
  },
  {
   "cell_type": "code",
   "execution_count": 67,
   "metadata": {},
   "outputs": [],
   "source": [
    "# 由上图可知，FLAG_MOBIL全部为1，显然可以消除\n",
    "credit.drop(columns='FLAG_MOBIL', axis=1, inplace=True)"
   ]
  },
  {
   "cell_type": "code",
   "execution_count": 68,
   "metadata": {},
   "outputs": [],
   "source": [
    "name_cols = [col for col in credit.columns if col.startswith('NAME_')]"
   ]
  },
  {
   "cell_type": "code",
   "execution_count": 69,
   "metadata": {},
   "outputs": [
    {
     "data": {
      "image/png": "[encoded data removed]",
      "text/plain": [
       "<Figure size 360x1440 with 4 Axes>"
      ]
     },
     "metadata": {
      "needs_background": "light"
     },
     "output_type": "display_data"
    }
   ],
   "source": [
    "_, axes = plt.subplots(nrows=len(name_cols), figsize=(5, 20))\n",
    "for col, ax in zip(name_cols, axes):\n",
    "    credit[col].value_counts().plot(kind='barh', ax=ax, title=col)\n",
    "plt.show()"
   ]
  },
  {
   "cell_type": "code",
   "execution_count": 70,
   "metadata": {},
   "outputs": [],
   "source": [
    "amt_cols = ['CNT_CHILDREN', 'AMT_INCOME_TOTAL', 'CNT_FAM_MEMBERS', 'month_on_book', 'age', 'work_year']"
   ]
  },
  {
   "cell_type": "code",
   "execution_count": 71,
   "metadata": {},
   "outputs": [],
   "source": [
    "import seaborn as sns"
   ]
  },
  {
   "cell_type": "code",
   "execution_count": 72,
   "metadata": {},
   "outputs": [
    {
     "data": {
      "image/png": "[encoded data removed]",
      "text/plain": [
       "<Figure size 720x1440 with 6 Axes>"
      ]
     },
     "metadata": {
      "needs_background": "light"
     },
     "output_type": "display_data"
    }
   ],
   "source": [
    "_, axes = plt.subplots(nrows=len(amt_cols), figsize=(10, 20))\n",
    "for col, ax in zip(amt_cols, axes):\n",
    "    sns.distplot(credit[col], ax=ax)\n",
    "plt.show()"
   ]
  },
  {
   "cell_type": "code",
   "execution_count": 73,
   "metadata": {},
   "outputs": [
    {
     "data": {
      "text/html": [
       "<div>\n",
       "<style scoped>\n",
       "    .dataframe tbody tr th:only-of-type {\n",
       "        vertical-align: middle;\n",
       "    }\n",
       "\n",
       "    .dataframe tbody tr th {\n",
       "        vertical-align: top;\n",
       "    }\n",
       "\n",
       "    .dataframe thead th {\n",
       "        text-align: right;\n",
       "    }\n",
       "</style>\n",
       "<table border=\"1\" class=\"dataframe\">\n",
       "  <thead>\n",
       "    <tr style=\"text-align: right;\">\n",
       "      <th></th>\n",
       "      <th>CNT_CHILDREN</th>\n",
       "      <th>AMT_INCOME_TOTAL</th>\n",
       "      <th>CNT_FAM_MEMBERS</th>\n",
       "      <th>month_on_book</th>\n",
       "      <th>age</th>\n",
       "      <th>work_year</th>\n",
       "    </tr>\n",
       "  </thead>\n",
       "  <tbody>\n",
       "    <tr>\n",
       "      <th>count</th>\n",
       "      <td>36457.0</td>\n",
       "      <td>36457.0</td>\n",
       "      <td>36457.0</td>\n",
       "      <td>36457.0</td>\n",
       "      <td>36457.0</td>\n",
       "      <td>36457.0</td>\n",
       "    </tr>\n",
       "    <tr>\n",
       "      <th>mean</th>\n",
       "      <td>0.0</td>\n",
       "      <td>187.0</td>\n",
       "      <td>2.0</td>\n",
       "      <td>26.0</td>\n",
       "      <td>44.0</td>\n",
       "      <td>162.0</td>\n",
       "    </tr>\n",
       "    <tr>\n",
       "      <th>std</th>\n",
       "      <td>1.0</td>\n",
       "      <td>102.0</td>\n",
       "      <td>1.0</td>\n",
       "      <td>17.0</td>\n",
       "      <td>12.0</td>\n",
       "      <td>377.0</td>\n",
       "    </tr>\n",
       "    <tr>\n",
       "      <th>min</th>\n",
       "      <td>0.0</td>\n",
       "      <td>27.0</td>\n",
       "      <td>1.0</td>\n",
       "      <td>-0.0</td>\n",
       "      <td>21.0</td>\n",
       "      <td>-43.0</td>\n",
       "    </tr>\n",
       "    <tr>\n",
       "      <th>25%</th>\n",
       "      <td>0.0</td>\n",
       "      <td>122.0</td>\n",
       "      <td>2.0</td>\n",
       "      <td>12.0</td>\n",
       "      <td>34.0</td>\n",
       "      <td>-9.0</td>\n",
       "    </tr>\n",
       "    <tr>\n",
       "      <th>50%</th>\n",
       "      <td>0.0</td>\n",
       "      <td>158.0</td>\n",
       "      <td>2.0</td>\n",
       "      <td>24.0</td>\n",
       "      <td>43.0</td>\n",
       "      <td>-4.0</td>\n",
       "    </tr>\n",
       "    <tr>\n",
       "      <th>75%</th>\n",
       "      <td>1.0</td>\n",
       "      <td>225.0</td>\n",
       "      <td>3.0</td>\n",
       "      <td>39.0</td>\n",
       "      <td>53.0</td>\n",
       "      <td>-1.0</td>\n",
       "    </tr>\n",
       "    <tr>\n",
       "      <th>max</th>\n",
       "      <td>19.0</td>\n",
       "      <td>1575.0</td>\n",
       "      <td>20.0</td>\n",
       "      <td>60.0</td>\n",
       "      <td>69.0</td>\n",
       "      <td>1001.0</td>\n",
       "    </tr>\n",
       "  </tbody>\n",
       "</table>\n",
       "</div>"
      ],
      "text/plain": [
       "       CNT_CHILDREN  AMT_INCOME_TOTAL  CNT_FAM_MEMBERS  month_on_book  \\\n",
       "count       36457.0           36457.0          36457.0        36457.0   \n",
       "mean            0.0             187.0              2.0           26.0   \n",
       "std             1.0             102.0              1.0           17.0   \n",
       "min             0.0              27.0              1.0           -0.0   \n",
       "25%             0.0             122.0              2.0           12.0   \n",
       "50%             0.0             158.0              2.0           24.0   \n",
       "75%             1.0             225.0              3.0           39.0   \n",
       "max            19.0            1575.0             20.0           60.0   \n",
       "\n",
       "           age  work_year  \n",
       "count  36457.0    36457.0  \n",
       "mean      44.0      162.0  \n",
       "std       12.0      377.0  \n",
       "min       21.0      -43.0  \n",
       "25%       34.0       -9.0  \n",
       "50%       43.0       -4.0  \n",
       "75%       53.0       -1.0  \n",
       "max       69.0     1001.0  "
      ]
     },
     "execution_count": 73,
     "metadata": {},
     "output_type": "execute_result"
    }
   ],
   "source": [
    "desc = round(credit[amt_cols].describe(), 0)\n",
    "desc"
   ]
  },
  {
   "cell_type": "code",
   "execution_count": 74,
   "metadata": {},
   "outputs": [
    {
     "data": {
      "text/html": [
       "<div>\n",
       "<style scoped>\n",
       "    .dataframe tbody tr th:only-of-type {\n",
       "        vertical-align: middle;\n",
       "    }\n",
       "\n",
       "    .dataframe tbody tr th {\n",
       "        vertical-align: top;\n",
       "    }\n",
       "\n",
       "    .dataframe thead th {\n",
       "        text-align: right;\n",
       "    }\n",
       "</style>\n",
       "<table border=\"1\" class=\"dataframe\">\n",
       "  <thead>\n",
       "    <tr style=\"text-align: right;\">\n",
       "      <th></th>\n",
       "      <th>ID</th>\n",
       "      <th>CODE_GENDER</th>\n",
       "      <th>FLAG_OWN_CAR</th>\n",
       "      <th>FLAG_OWN_REALTY</th>\n",
       "      <th>CNT_CHILDREN</th>\n",
       "      <th>AMT_INCOME_TOTAL</th>\n",
       "      <th>NAME_INCOME_TYPE</th>\n",
       "      <th>NAME_EDUCATION_TYPE</th>\n",
       "      <th>NAME_FAMILY_STATUS</th>\n",
       "      <th>NAME_HOUSING_TYPE</th>\n",
       "      <th>age</th>\n",
       "      <th>work_year</th>\n",
       "      <th>FLAG_WORK_PHONE</th>\n",
       "      <th>FLAG_PHONE</th>\n",
       "      <th>FLAG_EMAIL</th>\n",
       "      <th>CNT_FAM_MEMBERS</th>\n",
       "      <th>target</th>\n",
       "      <th>month_on_book</th>\n",
       "    </tr>\n",
       "  </thead>\n",
       "  <tbody>\n",
       "    <tr>\n",
       "      <th>7</th>\n",
       "      <td>5008812</td>\n",
       "      <td>0</td>\n",
       "      <td>0</td>\n",
       "      <td>1</td>\n",
       "      <td>0</td>\n",
       "      <td>283.5</td>\n",
       "      <td>Pensioner</td>\n",
       "      <td>Higher education</td>\n",
       "      <td>Separated</td>\n",
       "      <td>House / apartment</td>\n",
       "      <td>61.545205</td>\n",
       "      <td>1000.665753</td>\n",
       "      <td>0</td>\n",
       "      <td>0</td>\n",
       "      <td>0</td>\n",
       "      <td>1.0</td>\n",
       "      <td>0</td>\n",
       "      <td>20.0</td>\n",
       "    </tr>\n",
       "    <tr>\n",
       "      <th>8</th>\n",
       "      <td>5008813</td>\n",
       "      <td>0</td>\n",
       "      <td>0</td>\n",
       "      <td>1</td>\n",
       "      <td>0</td>\n",
       "      <td>283.5</td>\n",
       "      <td>Pensioner</td>\n",
       "      <td>Higher education</td>\n",
       "      <td>Separated</td>\n",
       "      <td>House / apartment</td>\n",
       "      <td>61.545205</td>\n",
       "      <td>1000.665753</td>\n",
       "      <td>0</td>\n",
       "      <td>0</td>\n",
       "      <td>0</td>\n",
       "      <td>1.0</td>\n",
       "      <td>0</td>\n",
       "      <td>16.0</td>\n",
       "    </tr>\n",
       "    <tr>\n",
       "      <th>9</th>\n",
       "      <td>5008814</td>\n",
       "      <td>0</td>\n",
       "      <td>0</td>\n",
       "      <td>1</td>\n",
       "      <td>0</td>\n",
       "      <td>283.5</td>\n",
       "      <td>Pensioner</td>\n",
       "      <td>Higher education</td>\n",
       "      <td>Separated</td>\n",
       "      <td>House / apartment</td>\n",
       "      <td>61.545205</td>\n",
       "      <td>1000.665753</td>\n",
       "      <td>0</td>\n",
       "      <td>0</td>\n",
       "      <td>0</td>\n",
       "      <td>1.0</td>\n",
       "      <td>0</td>\n",
       "      <td>17.0</td>\n",
       "    </tr>\n",
       "    <tr>\n",
       "      <th>69</th>\n",
       "      <td>5008884</td>\n",
       "      <td>0</td>\n",
       "      <td>0</td>\n",
       "      <td>1</td>\n",
       "      <td>0</td>\n",
       "      <td>315.0</td>\n",
       "      <td>Pensioner</td>\n",
       "      <td>Secondary / secondary special</td>\n",
       "      <td>Widow</td>\n",
       "      <td>House / apartment</td>\n",
       "      <td>55.304110</td>\n",
       "      <td>1000.665753</td>\n",
       "      <td>0</td>\n",
       "      <td>0</td>\n",
       "      <td>0</td>\n",
       "      <td>1.0</td>\n",
       "      <td>0</td>\n",
       "      <td>40.0</td>\n",
       "    </tr>\n",
       "    <tr>\n",
       "      <th>150</th>\n",
       "      <td>5008974</td>\n",
       "      <td>0</td>\n",
       "      <td>0</td>\n",
       "      <td>1</td>\n",
       "      <td>0</td>\n",
       "      <td>112.5</td>\n",
       "      <td>Pensioner</td>\n",
       "      <td>Secondary / secondary special</td>\n",
       "      <td>Married</td>\n",
       "      <td>House / apartment</td>\n",
       "      <td>61.147945</td>\n",
       "      <td>1000.665753</td>\n",
       "      <td>0</td>\n",
       "      <td>0</td>\n",
       "      <td>0</td>\n",
       "      <td>2.0</td>\n",
       "      <td>0</td>\n",
       "      <td>49.0</td>\n",
       "    </tr>\n",
       "    <tr>\n",
       "      <th>...</th>\n",
       "      <td>...</td>\n",
       "      <td>...</td>\n",
       "      <td>...</td>\n",
       "      <td>...</td>\n",
       "      <td>...</td>\n",
       "      <td>...</td>\n",
       "      <td>...</td>\n",
       "      <td>...</td>\n",
       "      <td>...</td>\n",
       "      <td>...</td>\n",
       "      <td>...</td>\n",
       "      <td>...</td>\n",
       "      <td>...</td>\n",
       "      <td>...</td>\n",
       "      <td>...</td>\n",
       "      <td>...</td>\n",
       "      <td>...</td>\n",
       "      <td>...</td>\n",
       "    </tr>\n",
       "    <tr>\n",
       "      <th>36408</th>\n",
       "      <td>5126278</td>\n",
       "      <td>0</td>\n",
       "      <td>0</td>\n",
       "      <td>0</td>\n",
       "      <td>0</td>\n",
       "      <td>162.0</td>\n",
       "      <td>Pensioner</td>\n",
       "      <td>Secondary / secondary special</td>\n",
       "      <td>Married</td>\n",
       "      <td>House / apartment</td>\n",
       "      <td>58.202740</td>\n",
       "      <td>1000.665753</td>\n",
       "      <td>0</td>\n",
       "      <td>0</td>\n",
       "      <td>0</td>\n",
       "      <td>2.0</td>\n",
       "      <td>1</td>\n",
       "      <td>28.0</td>\n",
       "    </tr>\n",
       "    <tr>\n",
       "      <th>36418</th>\n",
       "      <td>5139446</td>\n",
       "      <td>0</td>\n",
       "      <td>0</td>\n",
       "      <td>1</td>\n",
       "      <td>0</td>\n",
       "      <td>112.5</td>\n",
       "      <td>Pensioner</td>\n",
       "      <td>Secondary / secondary special</td>\n",
       "      <td>Widow</td>\n",
       "      <td>House / apartment</td>\n",
       "      <td>58.235616</td>\n",
       "      <td>1000.665753</td>\n",
       "      <td>0</td>\n",
       "      <td>1</td>\n",
       "      <td>0</td>\n",
       "      <td>1.0</td>\n",
       "      <td>1</td>\n",
       "      <td>16.0</td>\n",
       "    </tr>\n",
       "    <tr>\n",
       "      <th>36432</th>\n",
       "      <td>5145690</td>\n",
       "      <td>0</td>\n",
       "      <td>0</td>\n",
       "      <td>1</td>\n",
       "      <td>0</td>\n",
       "      <td>306.0</td>\n",
       "      <td>Pensioner</td>\n",
       "      <td>Higher education</td>\n",
       "      <td>Married</td>\n",
       "      <td>House / apartment</td>\n",
       "      <td>59.150685</td>\n",
       "      <td>1000.665753</td>\n",
       "      <td>0</td>\n",
       "      <td>0</td>\n",
       "      <td>0</td>\n",
       "      <td>2.0</td>\n",
       "      <td>1</td>\n",
       "      <td>17.0</td>\n",
       "    </tr>\n",
       "    <tr>\n",
       "      <th>36434</th>\n",
       "      <td>5145817</td>\n",
       "      <td>0</td>\n",
       "      <td>0</td>\n",
       "      <td>1</td>\n",
       "      <td>0</td>\n",
       "      <td>90.0</td>\n",
       "      <td>Pensioner</td>\n",
       "      <td>Secondary / secondary special</td>\n",
       "      <td>Married</td>\n",
       "      <td>House / apartment</td>\n",
       "      <td>60.304110</td>\n",
       "      <td>1000.665753</td>\n",
       "      <td>0</td>\n",
       "      <td>0</td>\n",
       "      <td>0</td>\n",
       "      <td>2.0</td>\n",
       "      <td>1</td>\n",
       "      <td>39.0</td>\n",
       "    </tr>\n",
       "    <tr>\n",
       "      <th>36439</th>\n",
       "      <td>5148602</td>\n",
       "      <td>1</td>\n",
       "      <td>0</td>\n",
       "      <td>1</td>\n",
       "      <td>0</td>\n",
       "      <td>225.0</td>\n",
       "      <td>Pensioner</td>\n",
       "      <td>Secondary / secondary special</td>\n",
       "      <td>Married</td>\n",
       "      <td>House / apartment</td>\n",
       "      <td>62.865753</td>\n",
       "      <td>1000.665753</td>\n",
       "      <td>0</td>\n",
       "      <td>0</td>\n",
       "      <td>0</td>\n",
       "      <td>2.0</td>\n",
       "      <td>1</td>\n",
       "      <td>15.0</td>\n",
       "    </tr>\n",
       "  </tbody>\n",
       "</table>\n",
       "<p>6135 rows × 18 columns</p>\n",
       "</div>"
      ],
      "text/plain": [
       "            ID  CODE_GENDER  FLAG_OWN_CAR  FLAG_OWN_REALTY  CNT_CHILDREN  \\\n",
       "7      5008812            0             0                1             0   \n",
       "8      5008813            0             0                1             0   \n",
       "9      5008814            0             0                1             0   \n",
       "69     5008884            0             0                1             0   \n",
       "150    5008974            0             0                1             0   \n",
       "...        ...          ...           ...              ...           ...   \n",
       "36408  5126278            0             0                0             0   \n",
       "36418  5139446            0             0                1             0   \n",
       "36432  5145690            0             0                1             0   \n",
       "36434  5145817            0             0                1             0   \n",
       "36439  5148602            1             0                1             0   \n",
       "\n",
       "       AMT_INCOME_TOTAL NAME_INCOME_TYPE            NAME_EDUCATION_TYPE  \\\n",
       "7                 283.5        Pensioner               Higher education   \n",
       "8                 283.5        Pensioner               Higher education   \n",
       "9                 283.5        Pensioner               Higher education   \n",
       "69                315.0        Pensioner  Secondary / secondary special   \n",
       "150               112.5        Pensioner  Secondary / secondary special   \n",
       "...                 ...              ...                            ...   \n",
       "36408             162.0        Pensioner  Secondary / secondary special   \n",
       "36418             112.5        Pensioner  Secondary / secondary special   \n",
       "36432             306.0        Pensioner               Higher education   \n",
       "36434              90.0        Pensioner  Secondary / secondary special   \n",
       "36439             225.0        Pensioner  Secondary / secondary special   \n",
       "\n",
       "      NAME_FAMILY_STATUS  NAME_HOUSING_TYPE        age    work_year  \\\n",
       "7              Separated  House / apartment  61.545205  1000.665753   \n",
       "8              Separated  House / apartment  61.545205  1000.665753   \n",
       "9              Separated  House / apartment  61.545205  1000.665753   \n",
       "69                 Widow  House / apartment  55.304110  1000.665753   \n",
       "150              Married  House / apartment  61.147945  1000.665753   \n",
       "...                  ...                ...        ...          ...   \n",
       "36408            Married  House / apartment  58.202740  1000.665753   \n",
       "36418              Widow  House / apartment  58.235616  1000.665753   \n",
       "36432            Married  House / apartment  59.150685  1000.665753   \n",
       "36434            Married  House / apartment  60.304110  1000.665753   \n",
       "36439            Married  House / apartment  62.865753  1000.665753   \n",
       "\n",
       "       FLAG_WORK_PHONE  FLAG_PHONE  FLAG_EMAIL  CNT_FAM_MEMBERS  target  \\\n",
       "7                    0           0           0              1.0       0   \n",
       "8                    0           0           0              1.0       0   \n",
       "9                    0           0           0              1.0       0   \n",
       "69                   0           0           0              1.0       0   \n",
       "150                  0           0           0              2.0       0   \n",
       "...                ...         ...         ...              ...     ...   \n",
       "36408                0           0           0              2.0       1   \n",
       "36418                0           1           0              1.0       1   \n",
       "36432                0           0           0              2.0       1   \n",
       "36434                0           0           0              2.0       1   \n",
       "36439                0           0           0              2.0       1   \n",
       "\n",
       "       month_on_book  \n",
       "7               20.0  \n",
       "8               16.0  \n",
       "9               17.0  \n",
       "69              40.0  \n",
       "150             49.0  \n",
       "...              ...  \n",
       "36408           28.0  \n",
       "36418           16.0  \n",
       "36432           17.0  \n",
       "36434           39.0  \n",
       "36439           15.0  \n",
       "\n",
       "[6135 rows x 18 columns]"
      ]
     },
     "execution_count": 74,
     "metadata": {},
     "output_type": "execute_result"
    }
   ],
   "source": [
    "credit[credit['work_year'] > 0]"
   ]
  },
  {
   "cell_type": "markdown",
   "metadata": {},
   "source": [
    "有6135条数据存在work_year异常值，且全部为退休人员"
   ]
  },
  {
   "cell_type": "code",
   "execution_count": 75,
   "metadata": {},
   "outputs": [],
   "source": [
    "# 使用插值法，将异常值替换为去掉异常值之后的平均值\n",
    "credit.loc[credit['work_year'] > 0, 'work_year'] = credit[credit['work_year'] < 0]['work_year'].mean()\n",
    "credit['work_year'] = -credit['work_year']"
   ]
  },
  {
   "cell_type": "code",
   "execution_count": 76,
   "metadata": {},
   "outputs": [
    {
     "data": {
      "image/png": "[encoded data removed]",
      "text/plain": [
       "<Figure size 720x1440 with 6 Axes>"
      ]
     },
     "metadata": {
      "needs_background": "light"
     },
     "output_type": "display_data"
    }
   ],
   "source": [
    "_, axes = plt.subplots(nrows=len(amt_cols), figsize=(10, 20))\n",
    "for col, ax in zip(amt_cols, axes):\n",
    "    sns.boxplot(credit[col], ax=ax)\n",
    "plt.show()"
   ]
  },
  {
   "cell_type": "markdown",
   "metadata": {},
   "source": [
    "## 变量分箱"
   ]
  },
  {
   "cell_type": "code",
   "execution_count": 77,
   "metadata": {},
   "outputs": [
    {
     "data": {
      "text/html": [
       "<div>\n",
       "<style scoped>\n",
       "    .dataframe tbody tr th:only-of-type {\n",
       "        vertical-align: middle;\n",
       "    }\n",
       "\n",
       "    .dataframe tbody tr th {\n",
       "        vertical-align: top;\n",
       "    }\n",
       "\n",
       "    .dataframe thead th {\n",
       "        text-align: right;\n",
       "    }\n",
       "</style>\n",
       "<table border=\"1\" class=\"dataframe\">\n",
       "  <thead>\n",
       "    <tr style=\"text-align: right;\">\n",
       "      <th></th>\n",
       "      <th>ID</th>\n",
       "      <th>CODE_GENDER</th>\n",
       "      <th>FLAG_OWN_CAR</th>\n",
       "      <th>FLAG_OWN_REALTY</th>\n",
       "      <th>CNT_CHILDREN</th>\n",
       "      <th>AMT_INCOME_TOTAL</th>\n",
       "      <th>age</th>\n",
       "      <th>work_year</th>\n",
       "      <th>FLAG_WORK_PHONE</th>\n",
       "      <th>FLAG_PHONE</th>\n",
       "      <th>FLAG_EMAIL</th>\n",
       "      <th>CNT_FAM_MEMBERS</th>\n",
       "      <th>target</th>\n",
       "      <th>month_on_book</th>\n",
       "    </tr>\n",
       "  </thead>\n",
       "  <tbody>\n",
       "    <tr>\n",
       "      <th>count</th>\n",
       "      <td>3.645700e+04</td>\n",
       "      <td>36457.000000</td>\n",
       "      <td>36457.000000</td>\n",
       "      <td>36457.000000</td>\n",
       "      <td>36457.000000</td>\n",
       "      <td>36457.000000</td>\n",
       "      <td>36457.000000</td>\n",
       "      <td>36457.000000</td>\n",
       "      <td>36457.000000</td>\n",
       "      <td>36457.000000</td>\n",
       "      <td>36457.000000</td>\n",
       "      <td>36457.000000</td>\n",
       "      <td>36457.000000</td>\n",
       "      <td>36457.000000</td>\n",
       "    </tr>\n",
       "    <tr>\n",
       "      <th>mean</th>\n",
       "      <td>5.078227e+06</td>\n",
       "      <td>0.329895</td>\n",
       "      <td>0.379708</td>\n",
       "      <td>0.672189</td>\n",
       "      <td>0.430315</td>\n",
       "      <td>186.685737</td>\n",
       "      <td>43.767598</td>\n",
       "      <td>7.247955</td>\n",
       "      <td>0.225526</td>\n",
       "      <td>0.294813</td>\n",
       "      <td>0.089722</td>\n",
       "      <td>2.198453</td>\n",
       "      <td>0.016897</td>\n",
       "      <td>26.164193</td>\n",
       "    </tr>\n",
       "    <tr>\n",
       "      <th>std</th>\n",
       "      <td>4.187524e+04</td>\n",
       "      <td>0.470181</td>\n",
       "      <td>0.485321</td>\n",
       "      <td>0.469422</td>\n",
       "      <td>0.742367</td>\n",
       "      <td>101.789226</td>\n",
       "      <td>11.508356</td>\n",
       "      <td>5.890187</td>\n",
       "      <td>0.417934</td>\n",
       "      <td>0.455965</td>\n",
       "      <td>0.285787</td>\n",
       "      <td>0.911686</td>\n",
       "      <td>0.128886</td>\n",
       "      <td>16.501854</td>\n",
       "    </tr>\n",
       "    <tr>\n",
       "      <th>min</th>\n",
       "      <td>5.008804e+06</td>\n",
       "      <td>0.000000</td>\n",
       "      <td>0.000000</td>\n",
       "      <td>0.000000</td>\n",
       "      <td>0.000000</td>\n",
       "      <td>27.000000</td>\n",
       "      <td>20.517808</td>\n",
       "      <td>0.046575</td>\n",
       "      <td>0.000000</td>\n",
       "      <td>0.000000</td>\n",
       "      <td>0.000000</td>\n",
       "      <td>1.000000</td>\n",
       "      <td>0.000000</td>\n",
       "      <td>-0.000000</td>\n",
       "    </tr>\n",
       "    <tr>\n",
       "      <th>25%</th>\n",
       "      <td>5.042028e+06</td>\n",
       "      <td>0.000000</td>\n",
       "      <td>0.000000</td>\n",
       "      <td>0.000000</td>\n",
       "      <td>0.000000</td>\n",
       "      <td>121.500000</td>\n",
       "      <td>34.142466</td>\n",
       "      <td>3.202740</td>\n",
       "      <td>0.000000</td>\n",
       "      <td>0.000000</td>\n",
       "      <td>0.000000</td>\n",
       "      <td>2.000000</td>\n",
       "      <td>0.000000</td>\n",
       "      <td>12.000000</td>\n",
       "    </tr>\n",
       "    <tr>\n",
       "      <th>50%</th>\n",
       "      <td>5.074614e+06</td>\n",
       "      <td>0.000000</td>\n",
       "      <td>0.000000</td>\n",
       "      <td>1.000000</td>\n",
       "      <td>0.000000</td>\n",
       "      <td>157.500000</td>\n",
       "      <td>42.638356</td>\n",
       "      <td>6.898630</td>\n",
       "      <td>0.000000</td>\n",
       "      <td>0.000000</td>\n",
       "      <td>0.000000</td>\n",
       "      <td>2.000000</td>\n",
       "      <td>0.000000</td>\n",
       "      <td>24.000000</td>\n",
       "    </tr>\n",
       "    <tr>\n",
       "      <th>75%</th>\n",
       "      <td>5.115396e+06</td>\n",
       "      <td>1.000000</td>\n",
       "      <td>1.000000</td>\n",
       "      <td>1.000000</td>\n",
       "      <td>1.000000</td>\n",
       "      <td>225.000000</td>\n",
       "      <td>53.254795</td>\n",
       "      <td>8.638356</td>\n",
       "      <td>0.000000</td>\n",
       "      <td>1.000000</td>\n",
       "      <td>0.000000</td>\n",
       "      <td>3.000000</td>\n",
       "      <td>0.000000</td>\n",
       "      <td>39.000000</td>\n",
       "    </tr>\n",
       "    <tr>\n",
       "      <th>max</th>\n",
       "      <td>5.150487e+06</td>\n",
       "      <td>1.000000</td>\n",
       "      <td>1.000000</td>\n",
       "      <td>1.000000</td>\n",
       "      <td>19.000000</td>\n",
       "      <td>1575.000000</td>\n",
       "      <td>68.909589</td>\n",
       "      <td>43.049315</td>\n",
       "      <td>1.000000</td>\n",
       "      <td>1.000000</td>\n",
       "      <td>1.000000</td>\n",
       "      <td>20.000000</td>\n",
       "      <td>1.000000</td>\n",
       "      <td>60.000000</td>\n",
       "    </tr>\n",
       "  </tbody>\n",
       "</table>\n",
       "</div>"
      ],
      "text/plain": [
       "                 ID   CODE_GENDER  FLAG_OWN_CAR  FLAG_OWN_REALTY  \\\n",
       "count  3.645700e+04  36457.000000  36457.000000     36457.000000   \n",
       "mean   5.078227e+06      0.329895      0.379708         0.672189   \n",
       "std    4.187524e+04      0.470181      0.485321         0.469422   \n",
       "min    5.008804e+06      0.000000      0.000000         0.000000   \n",
       "25%    5.042028e+06      0.000000      0.000000         0.000000   \n",
       "50%    5.074614e+06      0.000000      0.000000         1.000000   \n",
       "75%    5.115396e+06      1.000000      1.000000         1.000000   \n",
       "max    5.150487e+06      1.000000      1.000000         1.000000   \n",
       "\n",
       "       CNT_CHILDREN  AMT_INCOME_TOTAL           age     work_year  \\\n",
       "count  36457.000000      36457.000000  36457.000000  36457.000000   \n",
       "mean       0.430315        186.685737     43.767598      7.247955   \n",
       "std        0.742367        101.789226     11.508356      5.890187   \n",
       "min        0.000000         27.000000     20.517808      0.046575   \n",
       "25%        0.000000        121.500000     34.142466      3.202740   \n",
       "50%        0.000000        157.500000     42.638356      6.898630   \n",
       "75%        1.000000        225.000000     53.254795      8.638356   \n",
       "max       19.000000       1575.000000     68.909589     43.049315   \n",
       "\n",
       "       FLAG_WORK_PHONE    FLAG_PHONE    FLAG_EMAIL  CNT_FAM_MEMBERS  \\\n",
       "count     36457.000000  36457.000000  36457.000000     36457.000000   \n",
       "mean          0.225526      0.294813      0.089722         2.198453   \n",
       "std           0.417934      0.455965      0.285787         0.911686   \n",
       "min           0.000000      0.000000      0.000000         1.000000   \n",
       "25%           0.000000      0.000000      0.000000         2.000000   \n",
       "50%           0.000000      0.000000      0.000000         2.000000   \n",
       "75%           0.000000      1.000000      0.000000         3.000000   \n",
       "max           1.000000      1.000000      1.000000        20.000000   \n",
       "\n",
       "             target  month_on_book  \n",
       "count  36457.000000   36457.000000  \n",
       "mean       0.016897      26.164193  \n",
       "std        0.128886      16.501854  \n",
       "min        0.000000      -0.000000  \n",
       "25%        0.000000      12.000000  \n",
       "50%        0.000000      24.000000  \n",
       "75%        0.000000      39.000000  \n",
       "max        1.000000      60.000000  "
      ]
     },
     "execution_count": 77,
     "metadata": {},
     "output_type": "execute_result"
    }
   ],
   "source": [
    "credit.describe()"
   ]
  },
  {
   "cell_type": "code",
   "execution_count": 78,
   "metadata": {},
   "outputs": [
    {
     "name": "stdout",
     "output_type": "stream",
     "text": [
      "17\n"
     ]
    },
    {
     "data": {
      "text/plain": [
       "<matplotlib.axes._subplots.AxesSubplot at 0x2673604ea30>"
      ]
     },
     "execution_count": 78,
     "metadata": {},
     "output_type": "execute_result"
    },
    {
     "data": {
      "image/png": "[encoded data removed]",
      "text/plain": [
       "<Figure size 864x648 with 2 Axes>"
      ]
     },
     "metadata": {
      "needs_background": "light"
     },
     "output_type": "display_data"
    }
   ],
   "source": [
    "feat_cols: list = credit.columns.to_list()\n",
    "feat_cols.remove('target')\n",
    "feat_cols\n",
    "credit_train:pd.DataFrame = credit[feat_cols]\n",
    "corr_mat = credit_train.corr()\n",
    "_, _ = plt.subplots(figsize=(12, 9))\n",
    "print(len(feat_cols))\n",
    "sns.heatmap(corr_mat, vmax=.8, square=True)"
   ]
  },
  {
   "cell_type": "markdown",
   "metadata": {},
   "source": [
    "小孩个数和家庭成员个数显然相关"
   ]
  },
  {
   "cell_type": "markdown",
   "metadata": {},
   "source": [
    "* ### 小孩个数"
   ]
  },
  {
   "cell_type": "code",
   "execution_count": 79,
   "metadata": {},
   "outputs": [
    {
     "data": {
      "text/plain": [
       "0.10324491867131141"
      ]
     },
     "execution_count": 79,
     "metadata": {},
     "output_type": "execute_result"
    }
   ],
   "source": [
    "credit[credit['CNT_CHILDREN'] >= 2].count()['CNT_CHILDREN'] / credit.count()['CNT_CHILDREN']"
   ]
  },
  {
   "cell_type": "markdown",
   "metadata": {},
   "source": [
    "可以看出有超过2个小孩的家庭占少数，应当进行合并"
   ]
  },
  {
   "cell_type": "code",
   "execution_count": 80,
   "metadata": {},
   "outputs": [],
   "source": [
    "credit.loc[credit['CNT_CHILDREN'] >= 2, 'CNT_CHILDREN'] = 'more'"
   ]
  },
  {
   "cell_type": "code",
   "execution_count": 81,
   "metadata": {},
   "outputs": [
    {
     "data": {
      "text/plain": [
       "<matplotlib.axes._subplots.AxesSubplot at 0x26735d498e0>"
      ]
     },
     "execution_count": 81,
     "metadata": {},
     "output_type": "execute_result"
    },
    {
     "data": {
      "image/png": "[encoded data removed]",
      "text/plain": [
       "<Figure size 432x288 with 1 Axes>"
      ]
     },
     "metadata": {
      "needs_background": "light"
     },
     "output_type": "display_data"
    }
   ],
   "source": [
    "sns.boxplot(credit['CNT_FAM_MEMBERS'])"
   ]
  },
  {
   "cell_type": "markdown",
   "metadata": {},
   "source": [
    "* ### 家庭成员个数"
   ]
  },
  {
   "cell_type": "code",
   "execution_count": 82,
   "metadata": {},
   "outputs": [],
   "source": [
    "# 将3个及其以上的家庭CNT_FAM_MEMBERS设为more\n",
    "credit.loc[credit['CNT_FAM_MEMBERS'] >= 3, 'CNT_FAM_MEMBERS'] = 'more'"
   ]
  },
  {
   "cell_type": "code",
   "execution_count": 83,
   "metadata": {},
   "outputs": [
    {
     "data": {
      "text/plain": [
       "2.0     19463\n",
       "more    10007\n",
       "1.0      6987\n",
       "Name: CNT_FAM_MEMBERS, dtype: int64"
      ]
     },
     "execution_count": 83,
     "metadata": {},
     "output_type": "execute_result"
    }
   ],
   "source": [
    "credit['CNT_FAM_MEMBERS'].value_counts()"
   ]
  },
  {
   "cell_type": "markdown",
   "metadata": {},
   "source": [
    "* ## 住房情况"
   ]
  },
  {
   "cell_type": "code",
   "execution_count": 84,
   "metadata": {},
   "outputs": [
    {
     "data": {
      "text/plain": [
       "House / apartment      32548\n",
       "With parents            1776\n",
       "Municipal apartment     1128\n",
       "Rented apartment         575\n",
       "Office apartment         262\n",
       "Co-op apartment          168\n",
       "Name: NAME_HOUSING_TYPE, dtype: int64"
      ]
     },
     "execution_count": 84,
     "metadata": {},
     "output_type": "execute_result"
    }
   ],
   "source": [
    "credit['NAME_HOUSING_TYPE'].value_counts()"
   ]
  },
  {
   "cell_type": "code",
   "execution_count": 85,
   "metadata": {},
   "outputs": [],
   "source": [
    "# 我们将用户划分为 拥有/无 住房和公寓（1/0），从而将上述多类型变量转换为二分类 HOUSING_STATUS\n",
    "credit['housing-status'] = credit['NAME_HOUSING_TYPE'].apply(lambda x: 1 if x == 'House / apartment' else 0)\n",
    "credit.drop(columns='NAME_HOUSING_TYPE', inplace=True)"
   ]
  },
  {
   "cell_type": "code",
   "execution_count": 86,
   "metadata": {},
   "outputs": [
    {
     "data": {
      "text/plain": [
       "1    32548\n",
       "0     3909\n",
       "Name: housing-status, dtype: int64"
      ]
     },
     "execution_count": 86,
     "metadata": {},
     "output_type": "execute_result"
    }
   ],
   "source": [
    "credit['housing-status'].value_counts()"
   ]
  },
  {
   "cell_type": "markdown",
   "metadata": {},
   "source": [
    "* ### 婚姻情况"
   ]
  },
  {
   "cell_type": "code",
   "execution_count": 87,
   "metadata": {},
   "outputs": [
    {
     "data": {
      "text/plain": [
       "Married                 25048\n",
       "Single / not married     4829\n",
       "Civil marriage           2945\n",
       "Separated                2103\n",
       "Widow                    1532\n",
       "Name: NAME_FAMILY_STATUS, dtype: int64"
      ]
     },
     "execution_count": 87,
     "metadata": {},
     "output_type": "execute_result"
    }
   ],
   "source": [
    "credit['NAME_FAMILY_STATUS'].value_counts()"
   ]
  },
  {
   "cell_type": "code",
   "execution_count": 88,
   "metadata": {},
   "outputs": [],
   "source": [
    "credit['marriage_status'] = credit['NAME_FAMILY_STATUS'].apply(lambda x: 1 if (x == 'Married' or x == 'Civil marriage') else 0)\n",
    "credit.drop(columns='NAME_FAMILY_STATUS', inplace=True)"
   ]
  },
  {
   "cell_type": "code",
   "execution_count": 89,
   "metadata": {},
   "outputs": [
    {
     "data": {
      "text/plain": [
       "1    27993\n",
       "0     8464\n",
       "Name: marriage_status, dtype: int64"
      ]
     },
     "execution_count": 89,
     "metadata": {},
     "output_type": "execute_result"
    }
   ],
   "source": [
    "credit['marriage_status'].value_counts()"
   ]
  },
  {
   "cell_type": "code",
   "execution_count": 90,
   "metadata": {},
   "outputs": [
    {
     "data": {
      "text/html": [
       "<div>\n",
       "<style scoped>\n",
       "    .dataframe tbody tr th:only-of-type {\n",
       "        vertical-align: middle;\n",
       "    }\n",
       "\n",
       "    .dataframe tbody tr th {\n",
       "        vertical-align: top;\n",
       "    }\n",
       "\n",
       "    .dataframe thead th {\n",
       "        text-align: right;\n",
       "    }\n",
       "</style>\n",
       "<table border=\"1\" class=\"dataframe\">\n",
       "  <thead>\n",
       "    <tr style=\"text-align: right;\">\n",
       "      <th></th>\n",
       "      <th>ID</th>\n",
       "      <th>CODE_GENDER</th>\n",
       "      <th>FLAG_OWN_CAR</th>\n",
       "      <th>FLAG_OWN_REALTY</th>\n",
       "      <th>CNT_CHILDREN</th>\n",
       "      <th>AMT_INCOME_TOTAL</th>\n",
       "      <th>NAME_INCOME_TYPE</th>\n",
       "      <th>NAME_EDUCATION_TYPE</th>\n",
       "      <th>age</th>\n",
       "      <th>work_year</th>\n",
       "      <th>FLAG_WORK_PHONE</th>\n",
       "      <th>FLAG_PHONE</th>\n",
       "      <th>FLAG_EMAIL</th>\n",
       "      <th>CNT_FAM_MEMBERS</th>\n",
       "      <th>target</th>\n",
       "      <th>month_on_book</th>\n",
       "      <th>housing-status</th>\n",
       "      <th>marriage_status</th>\n",
       "    </tr>\n",
       "  </thead>\n",
       "  <tbody>\n",
       "    <tr>\n",
       "      <th>0</th>\n",
       "      <td>5008804</td>\n",
       "      <td>1</td>\n",
       "      <td>1</td>\n",
       "      <td>1</td>\n",
       "      <td>0</td>\n",
       "      <td>427.5</td>\n",
       "      <td>Working</td>\n",
       "      <td>Higher education</td>\n",
       "      <td>32.890411</td>\n",
       "      <td>12.443836</td>\n",
       "      <td>1</td>\n",
       "      <td>0</td>\n",
       "      <td>0</td>\n",
       "      <td>2</td>\n",
       "      <td>0</td>\n",
       "      <td>15.0</td>\n",
       "      <td>0</td>\n",
       "      <td>1</td>\n",
       "    </tr>\n",
       "    <tr>\n",
       "      <th>1</th>\n",
       "      <td>5008805</td>\n",
       "      <td>1</td>\n",
       "      <td>1</td>\n",
       "      <td>1</td>\n",
       "      <td>0</td>\n",
       "      <td>427.5</td>\n",
       "      <td>Working</td>\n",
       "      <td>Higher education</td>\n",
       "      <td>32.890411</td>\n",
       "      <td>12.443836</td>\n",
       "      <td>1</td>\n",
       "      <td>0</td>\n",
       "      <td>0</td>\n",
       "      <td>2</td>\n",
       "      <td>0</td>\n",
       "      <td>14.0</td>\n",
       "      <td>0</td>\n",
       "      <td>1</td>\n",
       "    </tr>\n",
       "    <tr>\n",
       "      <th>2</th>\n",
       "      <td>5008806</td>\n",
       "      <td>1</td>\n",
       "      <td>1</td>\n",
       "      <td>1</td>\n",
       "      <td>0</td>\n",
       "      <td>112.5</td>\n",
       "      <td>Working</td>\n",
       "      <td>Secondary / secondary special</td>\n",
       "      <td>58.832877</td>\n",
       "      <td>3.106849</td>\n",
       "      <td>0</td>\n",
       "      <td>0</td>\n",
       "      <td>0</td>\n",
       "      <td>2</td>\n",
       "      <td>0</td>\n",
       "      <td>29.0</td>\n",
       "      <td>1</td>\n",
       "      <td>1</td>\n",
       "    </tr>\n",
       "    <tr>\n",
       "      <th>3</th>\n",
       "      <td>5008808</td>\n",
       "      <td>0</td>\n",
       "      <td>0</td>\n",
       "      <td>1</td>\n",
       "      <td>0</td>\n",
       "      <td>270.0</td>\n",
       "      <td>Commercial associate</td>\n",
       "      <td>Secondary / secondary special</td>\n",
       "      <td>52.356164</td>\n",
       "      <td>8.358904</td>\n",
       "      <td>0</td>\n",
       "      <td>1</td>\n",
       "      <td>1</td>\n",
       "      <td>1</td>\n",
       "      <td>0</td>\n",
       "      <td>4.0</td>\n",
       "      <td>1</td>\n",
       "      <td>0</td>\n",
       "    </tr>\n",
       "    <tr>\n",
       "      <th>4</th>\n",
       "      <td>5008809</td>\n",
       "      <td>0</td>\n",
       "      <td>0</td>\n",
       "      <td>1</td>\n",
       "      <td>0</td>\n",
       "      <td>270.0</td>\n",
       "      <td>Commercial associate</td>\n",
       "      <td>Secondary / secondary special</td>\n",
       "      <td>52.356164</td>\n",
       "      <td>8.358904</td>\n",
       "      <td>0</td>\n",
       "      <td>1</td>\n",
       "      <td>1</td>\n",
       "      <td>1</td>\n",
       "      <td>0</td>\n",
       "      <td>26.0</td>\n",
       "      <td>1</td>\n",
       "      <td>0</td>\n",
       "    </tr>\n",
       "    <tr>\n",
       "      <th>...</th>\n",
       "      <td>...</td>\n",
       "      <td>...</td>\n",
       "      <td>...</td>\n",
       "      <td>...</td>\n",
       "      <td>...</td>\n",
       "      <td>...</td>\n",
       "      <td>...</td>\n",
       "      <td>...</td>\n",
       "      <td>...</td>\n",
       "      <td>...</td>\n",
       "      <td>...</td>\n",
       "      <td>...</td>\n",
       "      <td>...</td>\n",
       "      <td>...</td>\n",
       "      <td>...</td>\n",
       "      <td>...</td>\n",
       "      <td>...</td>\n",
       "      <td>...</td>\n",
       "    </tr>\n",
       "    <tr>\n",
       "      <th>36452</th>\n",
       "      <td>5149828</td>\n",
       "      <td>1</td>\n",
       "      <td>1</td>\n",
       "      <td>1</td>\n",
       "      <td>0</td>\n",
       "      <td>315.0</td>\n",
       "      <td>Working</td>\n",
       "      <td>Secondary / secondary special</td>\n",
       "      <td>47.528767</td>\n",
       "      <td>6.630137</td>\n",
       "      <td>0</td>\n",
       "      <td>0</td>\n",
       "      <td>0</td>\n",
       "      <td>2</td>\n",
       "      <td>1</td>\n",
       "      <td>11.0</td>\n",
       "      <td>1</td>\n",
       "      <td>1</td>\n",
       "    </tr>\n",
       "    <tr>\n",
       "      <th>36453</th>\n",
       "      <td>5149834</td>\n",
       "      <td>0</td>\n",
       "      <td>0</td>\n",
       "      <td>1</td>\n",
       "      <td>0</td>\n",
       "      <td>157.5</td>\n",
       "      <td>Commercial associate</td>\n",
       "      <td>Higher education</td>\n",
       "      <td>33.936986</td>\n",
       "      <td>3.630137</td>\n",
       "      <td>0</td>\n",
       "      <td>1</td>\n",
       "      <td>1</td>\n",
       "      <td>2</td>\n",
       "      <td>1</td>\n",
       "      <td>23.0</td>\n",
       "      <td>1</td>\n",
       "      <td>1</td>\n",
       "    </tr>\n",
       "    <tr>\n",
       "      <th>36454</th>\n",
       "      <td>5149838</td>\n",
       "      <td>0</td>\n",
       "      <td>0</td>\n",
       "      <td>1</td>\n",
       "      <td>0</td>\n",
       "      <td>157.5</td>\n",
       "      <td>Pensioner</td>\n",
       "      <td>Higher education</td>\n",
       "      <td>33.936986</td>\n",
       "      <td>3.630137</td>\n",
       "      <td>0</td>\n",
       "      <td>1</td>\n",
       "      <td>1</td>\n",
       "      <td>2</td>\n",
       "      <td>1</td>\n",
       "      <td>32.0</td>\n",
       "      <td>1</td>\n",
       "      <td>1</td>\n",
       "    </tr>\n",
       "    <tr>\n",
       "      <th>36455</th>\n",
       "      <td>5150049</td>\n",
       "      <td>0</td>\n",
       "      <td>0</td>\n",
       "      <td>1</td>\n",
       "      <td>0</td>\n",
       "      <td>283.5</td>\n",
       "      <td>Working</td>\n",
       "      <td>Secondary / secondary special</td>\n",
       "      <td>49.200000</td>\n",
       "      <td>1.794521</td>\n",
       "      <td>0</td>\n",
       "      <td>0</td>\n",
       "      <td>0</td>\n",
       "      <td>2</td>\n",
       "      <td>1</td>\n",
       "      <td>9.0</td>\n",
       "      <td>1</td>\n",
       "      <td>1</td>\n",
       "    </tr>\n",
       "    <tr>\n",
       "      <th>36456</th>\n",
       "      <td>5150337</td>\n",
       "      <td>1</td>\n",
       "      <td>0</td>\n",
       "      <td>1</td>\n",
       "      <td>0</td>\n",
       "      <td>112.5</td>\n",
       "      <td>Working</td>\n",
       "      <td>Secondary / secondary special</td>\n",
       "      <td>25.172603</td>\n",
       "      <td>3.268493</td>\n",
       "      <td>0</td>\n",
       "      <td>0</td>\n",
       "      <td>0</td>\n",
       "      <td>1</td>\n",
       "      <td>1</td>\n",
       "      <td>13.0</td>\n",
       "      <td>0</td>\n",
       "      <td>0</td>\n",
       "    </tr>\n",
       "  </tbody>\n",
       "</table>\n",
       "<p>36457 rows × 18 columns</p>\n",
       "</div>"
      ],
      "text/plain": [
       "            ID  CODE_GENDER  FLAG_OWN_CAR  FLAG_OWN_REALTY CNT_CHILDREN  \\\n",
       "0      5008804            1             1                1            0   \n",
       "1      5008805            1             1                1            0   \n",
       "2      5008806            1             1                1            0   \n",
       "3      5008808            0             0                1            0   \n",
       "4      5008809            0             0                1            0   \n",
       "...        ...          ...           ...              ...          ...   \n",
       "36452  5149828            1             1                1            0   \n",
       "36453  5149834            0             0                1            0   \n",
       "36454  5149838            0             0                1            0   \n",
       "36455  5150049            0             0                1            0   \n",
       "36456  5150337            1             0                1            0   \n",
       "\n",
       "       AMT_INCOME_TOTAL      NAME_INCOME_TYPE            NAME_EDUCATION_TYPE  \\\n",
       "0                 427.5               Working               Higher education   \n",
       "1                 427.5               Working               Higher education   \n",
       "2                 112.5               Working  Secondary / secondary special   \n",
       "3                 270.0  Commercial associate  Secondary / secondary special   \n",
       "4                 270.0  Commercial associate  Secondary / secondary special   \n",
       "...                 ...                   ...                            ...   \n",
       "36452             315.0               Working  Secondary / secondary special   \n",
       "36453             157.5  Commercial associate               Higher education   \n",
       "36454             157.5             Pensioner               Higher education   \n",
       "36455             283.5               Working  Secondary / secondary special   \n",
       "36456             112.5               Working  Secondary / secondary special   \n",
       "\n",
       "             age  work_year  FLAG_WORK_PHONE  FLAG_PHONE  FLAG_EMAIL  \\\n",
       "0      32.890411  12.443836                1           0           0   \n",
       "1      32.890411  12.443836                1           0           0   \n",
       "2      58.832877   3.106849                0           0           0   \n",
       "3      52.356164   8.358904                0           1           1   \n",
       "4      52.356164   8.358904                0           1           1   \n",
       "...          ...        ...              ...         ...         ...   \n",
       "36452  47.528767   6.630137                0           0           0   \n",
       "36453  33.936986   3.630137                0           1           1   \n",
       "36454  33.936986   3.630137                0           1           1   \n",
       "36455  49.200000   1.794521                0           0           0   \n",
       "36456  25.172603   3.268493                0           0           0   \n",
       "\n",
       "      CNT_FAM_MEMBERS  target  month_on_book  housing-status  marriage_status  \n",
       "0                   2       0           15.0               0                1  \n",
       "1                   2       0           14.0               0                1  \n",
       "2                   2       0           29.0               1                1  \n",
       "3                   1       0            4.0               1                0  \n",
       "4                   1       0           26.0               1                0  \n",
       "...               ...     ...            ...             ...              ...  \n",
       "36452               2       1           11.0               1                1  \n",
       "36453               2       1           23.0               1                1  \n",
       "36454               2       1           32.0               1                1  \n",
       "36455               2       1            9.0               1                1  \n",
       "36456               1       1           13.0               0                0  \n",
       "\n",
       "[36457 rows x 18 columns]"
      ]
     },
     "execution_count": 90,
     "metadata": {},
     "output_type": "execute_result"
    }
   ],
   "source": [
    "credit"
   ]
  },
  {
   "cell_type": "code",
   "execution_count": 91,
   "metadata": {},
   "outputs": [
    {
     "data": {
      "text/plain": [
       "Working                 18819\n",
       "Commercial associate     8490\n",
       "Pensioner                6152\n",
       "State servant            2985\n",
       "Student                    11\n",
       "Name: NAME_INCOME_TYPE, dtype: int64"
      ]
     },
     "execution_count": 91,
     "metadata": {},
     "output_type": "execute_result"
    }
   ],
   "source": [
    "credit['NAME_INCOME_TYPE'].value_counts()"
   ]
  },
  {
   "cell_type": "markdown",
   "metadata": {},
   "source": [
    "## 使用xgboost 试一试"
   ]
  },
  {
   "cell_type": "code",
   "execution_count": 92,
   "metadata": {},
   "outputs": [],
   "source": [
    "import xgboost"
   ]
  },
  {
   "cell_type": "code",
   "execution_count": 93,
   "metadata": {},
   "outputs": [],
   "source": [
    "from imblearn.over_sampling import SMOTE"
   ]
  },
  {
   "cell_type": "code",
   "execution_count": 101,
   "metadata": {},
   "outputs": [],
   "source": [
    "credit = pd.get_dummies(credit)\n",
    "feat_cols = credit.columns.to_list()\n",
    "feat_cols.remove('ID')\n",
    "feat_cols.remove('target')\n",
    "X, Y = credit[feat_cols], credit['target']\n",
    "Y = Y.astype(int)"
   ]
  },
  {
   "cell_type": "code",
   "execution_count": 120,
   "metadata": {},
   "outputs": [],
   "source": [
    "from sklearn.model_selection import train_test_split\n",
    "X_b, Y_bs = SMOTE().fit_sample(X_train, Y_train)\n",
    "X_train, X_test, Y_train, Y_test = train_test_split(X_b, Y_b, test_size=0.3)"
   ]
  },
  {
   "cell_type": "code",
   "execution_count": 121,
   "metadata": {},
   "outputs": [],
   "source": [
    "from xgboost import XGBClassifier, plot_importance"
   ]
  },
  {
   "cell_type": "code",
   "execution_count": 122,
   "metadata": {},
   "outputs": [
    {
     "data": {
      "text/plain": [
       "XGBClassifier(base_score=0.5, booster='gbtree', colsample_bylevel=1,\n",
       "              colsample_bynode=1, colsample_bytree=1, gamma=0, gpu_id=-1,\n",
       "              importance_type='gain', interaction_constraints='',\n",
       "              learning_rate=0.300000012, max_delta_step=0, max_depth=6,\n",
       "              min_child_weight=1, missing=nan, monotone_constraints='()',\n",
       "              n_estimators=100, n_jobs=0, num_parallel_tree=1, random_state=0,\n",
       "              reg_alpha=0, reg_lambda=1, scale_pos_weight=1, subsample=1,\n",
       "              tree_method='exact', validate_parameters=1, verbosity=None)"
      ]
     },
     "execution_count": 122,
     "metadata": {},
     "output_type": "execute_result"
    }
   ],
   "source": [
    "model = XGBClassifier()\n",
    "model.fit(X_train, Y_train)"
   ]
  },
  {
   "cell_type": "code",
   "execution_count": 123,
   "metadata": {},
   "outputs": [],
   "source": [
    "y_pred = model.predict(X_test)"
   ]
  },
  {
   "cell_type": "code",
   "execution_count": 124,
   "metadata": {},
   "outputs": [],
   "source": [
    "from sklearn import metrics"
   ]
  },
  {
   "cell_type": "code",
   "execution_count": 185,
   "metadata": {},
   "outputs": [
    {
     "data": {
      "text/plain": [
       "0.9910975285676322"
      ]
     },
     "execution_count": 185,
     "metadata": {},
     "output_type": "execute_result"
    }
   ],
   "source": [
    "# 准确率\n",
    "metrics.accuracy_score(Y_test, y_pred)"
   ]
  },
  {
   "cell_type": "code",
   "execution_count": 164,
   "metadata": {},
   "outputs": [
    {
     "data": {
      "text/plain": [
       "<matplotlib.axes._subplots.AxesSubplot at 0x267453bf880>"
      ]
     },
     "execution_count": 164,
     "metadata": {},
     "output_type": "execute_result"
    },
    {
     "data": {
      "image/png": "[encoded data removed]",
      "text/plain": [
       "<Figure size 360x720 with 1 Axes>"
      ]
     },
     "metadata": {
      "needs_background": "light"
     },
     "output_type": "display_data"
    }
   ],
   "source": [
    "fig, ax = plt.subplots(figsize=(5, 10))\n",
    "plot_importance(model, ax=ax, height=0.4)"
   ]
  },
  {
   "cell_type": "code",
   "execution_count": 184,
   "metadata": {},
   "outputs": [
    {
     "data": {
      "text/plain": [
       "0.9954606141522029"
      ]
     },
     "execution_count": 184,
     "metadata": {},
     "output_type": "execute_result"
    }
   ],
   "source": [
    "# 召回率\n",
    "metrics.recall_score(y_pred, Y_test)"
   ]
  },
  {
   "cell_type": "code",
   "execution_count": 147,
   "metadata": {},
   "outputs": [],
   "source": [
    "cm = metrics.confusion_matrix(y_pred, Y_test)"
   ]
  },
  {
   "cell_type": "markdown",
   "metadata": {},
   "source": [
    "* ## 画出混淆矩阵"
   ]
  },
  {
   "cell_type": "code",
   "execution_count": 183,
   "metadata": {},
   "outputs": [
    {
     "data": {
      "image/png": "[encoded data removed]",
      "text/plain": [
       "<Figure size 432x288 with 2 Axes>"
      ]
     },
     "metadata": {
      "needs_background": "light"
     },
     "output_type": "display_data"
    }
   ],
   "source": [
    "import numpy as np\n",
    "classes = list(set(Y_test))\n",
    "indices = range(len(cm))\n",
    "plt.imshow(cm, cmap=plt.cm.Blues)\n",
    "plt.xticks(indices, classes)\n",
    "plt.yticks(indices, classes)\n",
    "plt.colorbar()\n",
    "cm = cm / cm.sum(axis=1)[:,]\n",
    "for i in range(len(cm)):\n",
    "    for j in range(len(cm[i])):\n",
    "        plt.text(i, j, format(cm[i][j], '.2f'), horizontalalignment='center')"
   ]
  }
 ],
 "metadata": {
  "kernelspec": {
   "display_name": "Python 3",
   "language": "python",
   "name": "python3"
  },
  "language_info": {
   "codemirror_mode": {
    "name": "ipython",
    "version": 3
   },
   "file_extension": ".py",
   "mimetype": "text/x-python",
   "name": "python",
   "nbconvert_exporter": "python",
   "pygments_lexer": "ipython3",
   "version": "3.8.3"
  }
 },
 "nbformat": 4,
 "nbformat_minor": 4
}
