{
 "metadata": {
  "language_info": {
   "codemirror_mode": {
    "name": "ipython",
    "version": 3
   },
   "file_extension": ".py",
   "mimetype": "text/x-python",
   "name": "python",
   "nbconvert_exporter": "python",
   "pygments_lexer": "ipython3",
   "version": "3.8.3-final"
  },
  "orig_nbformat": 2,
  "kernelspec": {
   "name": "Python 3.8.3 64-bit ('base': conda)",
   "display_name": "Python 3.8.3 64-bit ('base': conda)",
   "metadata": {
    "interpreter": {
     "hash": "380644657faabb410b856f5e498e26a8be576c1794600cf6d1e6c7aa6ca3a3c8"
    }
   }
  }
 },
 "nbformat": 4,
 "nbformat_minor": 2,
 "cells": [
  {
   "cell_type": "code",
   "execution_count": 2,
   "metadata": {},
   "outputs": [],
   "source": [
    "import pandas as pd\n",
    "import numpy as np"
   ]
  },
  {
   "source": [
    "* ## json 使用"
   ],
   "cell_type": "markdown",
   "metadata": {}
  },
  {
   "cell_type": "code",
   "execution_count": 24,
   "metadata": {},
   "outputs": [
    {
     "output_type": "execute_result",
     "data": {
      "text/plain": [
       "   CODE_GENDER  FLAG_OWN_CAR  FLAG_OWN_REALTY  AMT_INCOME_TOTAL  age  \\\n",
       "0          1.0           1.0              0.0            120000   41   \n",
       "\n",
       "   work_year  FLAG_PHONE  month_on_book  marriage_status  \\\n",
       "0         21         1.0             12              1.0   \n",
       "\n",
       "   NAME_INCOME_TYPE_Commercial associate  ...  \\\n",
       "0                                    1.0  ...   \n",
       "\n",
       "   OCCUPATION_TYPE_Private service staff  OCCUPATION_TYPE_Realty agents  \\\n",
       "0                                    0.0                            0.0   \n",
       "\n",
       "   OCCUPATION_TYPE_Sales staff  OCCUPATION_TYPE_Secretaries  \\\n",
       "0                          0.0                          0.0   \n",
       "\n",
       "   OCCUPATION_TYPE_Security staff  OCCUPATION_TYPE_Waiters / barmen staff  \\\n",
       "0                             0.0                                     0.0   \n",
       "\n",
       "   OCCUPATION_TYPE_unknown  CNT_FAM_MEMBERS_1.0  CNT_FAM_MEMBERS_2.0  \\\n",
       "0                      0.0                  0.0                  0.0   \n",
       "\n",
       "   CNT_FAM_MEMBERS_more  \n",
       "0                   1.0  \n",
       "\n",
       "[1 rows x 41 columns]"
      ],
      "text/html": "<div>\n<style scoped>\n    .dataframe tbody tr th:only-of-type {\n        vertical-align: middle;\n    }\n\n    .dataframe tbody tr th {\n        vertical-align: top;\n    }\n\n    .dataframe thead th {\n        text-align: right;\n    }\n</style>\n<table border=\"1\" class=\"dataframe\">\n  <thead>\n    <tr style=\"text-align: right;\">\n      <th></th>\n      <th>CODE_GENDER</th>\n      <th>FLAG_OWN_CAR</th>\n      <th>FLAG_OWN_REALTY</th>\n      <th>AMT_INCOME_TOTAL</th>\n      <th>age</th>\n      <th>work_year</th>\n      <th>FLAG_PHONE</th>\n      <th>month_on_book</th>\n      <th>marriage_status</th>\n      <th>NAME_INCOME_TYPE_Commercial associate</th>\n      <th>...</th>\n      <th>OCCUPATION_TYPE_Private service staff</th>\n      <th>OCCUPATION_TYPE_Realty agents</th>\n      <th>OCCUPATION_TYPE_Sales staff</th>\n      <th>OCCUPATION_TYPE_Secretaries</th>\n      <th>OCCUPATION_TYPE_Security staff</th>\n      <th>OCCUPATION_TYPE_Waiters / barmen staff</th>\n      <th>OCCUPATION_TYPE_unknown</th>\n      <th>CNT_FAM_MEMBERS_1.0</th>\n      <th>CNT_FAM_MEMBERS_2.0</th>\n      <th>CNT_FAM_MEMBERS_more</th>\n    </tr>\n  </thead>\n  <tbody>\n    <tr>\n      <th>0</th>\n      <td>1.0</td>\n      <td>1.0</td>\n      <td>0.0</td>\n      <td>120000</td>\n      <td>41</td>\n      <td>21</td>\n      <td>1.0</td>\n      <td>12</td>\n      <td>1.0</td>\n      <td>1.0</td>\n      <td>...</td>\n      <td>0.0</td>\n      <td>0.0</td>\n      <td>0.0</td>\n      <td>0.0</td>\n      <td>0.0</td>\n      <td>0.0</td>\n      <td>0.0</td>\n      <td>0.0</td>\n      <td>0.0</td>\n      <td>1.0</td>\n    </tr>\n  </tbody>\n</table>\n<p>1 rows × 41 columns</p>\n</div>"
     },
     "metadata": {},
     "execution_count": 24
    }
   ],
   "source": [
    "# json 样式数据样例(已 pd.get_dummies )如下\n",
    "js = {\n",
    "    \"CODE_GENDER\": 1.0,\n",
    "    \"FLAG_OWN_CAR\": 1.0,\n",
    "    \"FLAG_OWN_REALTY\": 0.0,\n",
    "    \"AMT_INCOME_TOTAL\": 120000,\n",
    "    \"age\": 41,\n",
    "    \"work_year\": 21,\n",
    "    \"FLAG_PHONE\": 1.0,\n",
    "    \"month_on_book\": 12,\n",
    "    \"marriage_status\": 1.0,\n",
    "    \"NAME_INCOME_TYPE_Commercial associate\": 1.0,\n",
    "    \"NAME_INCOME_TYPE_Pensioner\": 0.0,\n",
    "    \"NAME_INCOME_TYPE_State servant\": 0.0,\n",
    "    \"NAME_INCOME_TYPE_Student\": 0.0,\n",
    "    \"NAME_INCOME_TYPE_Working\": 0.0,\n",
    "    \"NAME_EDUCATION_TYPE_Academic degree\": 0.0,\n",
    "    \"NAME_EDUCATION_TYPE_Higher education\": 0.0,\n",
    "    \"NAME_EDUCATION_TYPE_Incomplete higher\": 0.0,\n",
    "    \"NAME_EDUCATION_TYPE_Lower secondary\": 0.0,\n",
    "    \"NAME_EDUCATION_TYPE_Secondary / secondary special\": 0.0,\n",
    "    \"OCCUPATION_TYPE_Accountants\": 0.0,\n",
    "    \"OCCUPATION_TYPE_Cleaning staff\": 0.0,\n",
    "    \"OCCUPATION_TYPE_Cooking staff\": 0.0,\n",
    "    \"OCCUPATION_TYPE_Core staff\": 0.0,\n",
    "    \"OCCUPATION_TYPE_Drivers\": 0.0,\n",
    "    \"OCCUPATION_TYPE_HR staff\": 0.0,\n",
    "    \"OCCUPATION_TYPE_High skill tech staff\": 0.0,\n",
    "    \"OCCUPATION_TYPE_IT staff\": 0.0,\n",
    "    \"OCCUPATION_TYPE_Laborers\": 0.0,\n",
    "    \"OCCUPATION_TYPE_Low-skill Laborers\": 0.0,\n",
    "    \"OCCUPATION_TYPE_Managers\": 1.0,\n",
    "    \"OCCUPATION_TYPE_Medicine staff\": 0.0,\n",
    "    \"OCCUPATION_TYPE_Private service staff\": 0.0,\n",
    "    \"OCCUPATION_TYPE_Realty agents\": 0.0,\n",
    "    \"OCCUPATION_TYPE_Sales staff\": 0.0,\n",
    "    \"OCCUPATION_TYPE_Secretaries\": 0.0,\n",
    "    \"OCCUPATION_TYPE_Security staff\": 0.0,\n",
    "    \"OCCUPATION_TYPE_Waiters / barmen staff\": 0.0,\n",
    "    \"OCCUPATION_TYPE_unknown\": 0.0,\n",
    "    \"CNT_FAM_MEMBERS_1.0\": 0.0,\n",
    "    \"CNT_FAM_MEMBERS_2.0\": 0.0,\n",
    "    \"CNT_FAM_MEMBERS_more\": 1.0\n",
    "}\n",
    "# 数据转化为 DataFrame\n",
    "df = pd.json_normalize(js)\n",
    "df"
   ]
  },
  {
   "source": [
    "* ## 布尔型变量\n",
    "  1. CODE_GENDER: 性别\n",
    "  2. FLAG_OWN_CAR: 是否有车\n",
    "  3. FLAG_OWN_REALTY: 是否有不动产\n",
    "  4. FLAG_PHONE：是否有手机\n",
    "  5. marriage_status：是否结婚\n",
    "* ## 多分类变量\n",
    "  * ### NAME_INCOME_TYPE：收入类型\n",
    "   1. 'Working'\n",
    "   2. 'Commercial associate'\n",
    "   3. 'Pensioner'\n",
    "   4. 'State servant'\n",
    "   5. 'Student'\n",
    "   <br>\n",
    "  * ### NAME_EDUCATION_TYPE：教育程度\n",
    "   1. 'Higher education'\n",
    "   2. 'Secondary / secondary special'\n",
    "   3. 'Incomplete higher'\n",
    "   4. 'Lower secondary'\n",
    "   5. 'Academic degree'\n",
    "   <br>\n",
    "  * ### OCCUPATION_TYPE：工作类型\n",
    "   1. 'unknown'\n",
    "   2. 'Security staff'\n",
    "   3. 'Sales staff'\n",
    "   4. 'Accountants',\n",
    "   5. 'Laborers'\n",
    "   6. 'Managers'\n",
    "   7. 'Drivers'\n",
    "   8. 'Core staff'\n",
    "   9. 'High skill tech staff'\n",
    "   10. 'Cleaning staff'\n",
    "   11. 'Private service staff'\n",
    "   12. 'Cooking staff'\n",
    "   13. 'Low-skill Laborers'\n",
    "   14. 'Medicine staff',\n",
    "   15. 'Secretaries'\n",
    "   16. 'Waiters/barmen staff'\n",
    "   17. 'HR staff'\n",
    "   18. 'Realty agents',\n",
    "   19. 'IT staff'\n",
    "   <br>\n",
    "  * ### CNT_FAM_MEMBERS：家庭人数\n",
    "   1. 2.0 (两个人)\n",
    "   2. 1.0 （一个人）\n",
    "   3. 'more' （更多）\n",
    "* ## 连续型变量\n",
    "   1. AMT_INCOME_TOTAL：年收入总量\n",
    "   2. work_year：工龄\n",
    "   3. month_on_book：开户至今过了多少月\n",
    "   4. age：年龄"
   ],
   "cell_type": "markdown",
   "metadata": {}
  },
  {
   "source": [
    "* ## 模型使用"
   ],
   "cell_type": "markdown",
   "metadata": {}
  },
  {
   "cell_type": "code",
   "execution_count": 21,
   "metadata": {},
   "outputs": [],
   "source": [
    "import pickle"
   ]
  },
  {
   "cell_type": "code",
   "execution_count": 39,
   "metadata": {},
   "outputs": [],
   "source": [
    "with open('models/lightgbm.pickle', 'rb') as md:\n",
    "    model = pickle.load(md)"
   ]
  },
  {
   "cell_type": "code",
   "execution_count": 40,
   "metadata": {},
   "outputs": [
    {
     "output_type": "execute_result",
     "data": {
      "text/plain": [
       "array([0])"
      ]
     },
     "metadata": {},
     "execution_count": 40
    }
   ],
   "source": [
    "model.predict(df)"
   ]
  }
 ]
}